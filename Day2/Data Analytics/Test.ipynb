{
 "cells": [
  {
   "cell_type": "code",
   "execution_count": 11,
   "metadata": {},
   "outputs": [
    {
     "name": "stdout",
     "output_type": "stream",
     "text": [
      "Requirement already satisfied: cufflinks in /Users/kwarodom/anaconda/lib/python2.7/site-packages\n",
      "Requirement already satisfied: pandas in /Users/kwarodom/anaconda/lib/python2.7/site-packages (from cufflinks)\n",
      "Requirement already satisfied: plotly>=2.0.0 in /Users/kwarodom/anaconda/lib/python2.7/site-packages (from cufflinks)\n",
      "Requirement already satisfied: colorlover>=0.2 in /Users/kwarodom/anaconda/lib/python2.7/site-packages (from cufflinks)\n",
      "Requirement already satisfied: python-dateutil in /Users/kwarodom/anaconda/lib/python2.7/site-packages (from pandas->cufflinks)\n",
      "Requirement already satisfied: numpy>=1.7.0 in /Users/kwarodom/anaconda/lib/python2.7/site-packages (from pandas->cufflinks)\n",
      "Requirement already satisfied: pytz>=2011k in /Users/kwarodom/anaconda/lib/python2.7/site-packages (from pandas->cufflinks)\n",
      "Requirement already satisfied: nbformat>=4.2 in /Users/kwarodom/anaconda/lib/python2.7/site-packages (from plotly>=2.0.0->cufflinks)\n",
      "Requirement already satisfied: six in /Users/kwarodom/anaconda/lib/python2.7/site-packages (from plotly>=2.0.0->cufflinks)\n",
      "Requirement already satisfied: requests in /Users/kwarodom/anaconda/lib/python2.7/site-packages (from plotly>=2.0.0->cufflinks)\n",
      "Requirement already satisfied: decorator>=4.0.6 in /Users/kwarodom/anaconda/lib/python2.7/site-packages (from plotly>=2.0.0->cufflinks)\n",
      "Requirement already satisfied: ipython-genutils in /Users/kwarodom/anaconda/lib/python2.7/site-packages (from nbformat>=4.2->plotly>=2.0.0->cufflinks)\n",
      "Requirement already satisfied: traitlets>=4.1 in /Users/kwarodom/anaconda/lib/python2.7/site-packages (from nbformat>=4.2->plotly>=2.0.0->cufflinks)\n",
      "Requirement already satisfied: jupyter-core in /Users/kwarodom/anaconda/lib/python2.7/site-packages (from nbformat>=4.2->plotly>=2.0.0->cufflinks)\n",
      "Requirement already satisfied: jsonschema!=2.5.0,>=2.4 in /Users/kwarodom/anaconda/lib/python2.7/site-packages (from nbformat>=4.2->plotly>=2.0.0->cufflinks)\n",
      "Requirement already satisfied: chardet<3.1.0,>=3.0.2 in /Users/kwarodom/anaconda/lib/python2.7/site-packages (from requests->plotly>=2.0.0->cufflinks)\n",
      "Requirement already satisfied: certifi>=2017.4.17 in /Users/kwarodom/anaconda/lib/python2.7/site-packages (from requests->plotly>=2.0.0->cufflinks)\n",
      "Requirement already satisfied: urllib3<1.23,>=1.21.1 in /Users/kwarodom/anaconda/lib/python2.7/site-packages (from requests->plotly>=2.0.0->cufflinks)\n",
      "Requirement already satisfied: idna<2.7,>=2.5 in /Users/kwarodom/anaconda/lib/python2.7/site-packages (from requests->plotly>=2.0.0->cufflinks)\n",
      "Requirement already satisfied: enum34; python_version == \"2.7\" in /Users/kwarodom/anaconda/lib/python2.7/site-packages (from traitlets>=4.1->nbformat>=4.2->plotly>=2.0.0->cufflinks)\n",
      "Requirement already satisfied: functools32; python_version == \"2.7\" in /Users/kwarodom/anaconda/lib/python2.7/site-packages (from jsonschema!=2.5.0,>=2.4->nbformat>=4.2->plotly>=2.0.0->cufflinks)\n"
     ]
    }
   ],
   "source": [
    "!pip install cufflinks"
   ]
  },
  {
   "cell_type": "code",
   "execution_count": 12,
   "metadata": {},
   "outputs": [
    {
     "name": "stdout",
     "output_type": "stream",
     "text": [
      "                      grid_power  solar_power   load_power\n",
      "datetime                                                  \n",
      "2017-07-10 00:00:00  1350.943833     5.129561  1356.073394\n",
      "2017-07-10 00:15:00  1359.878411    -0.519156  1359.359256\n",
      "2017-07-10 00:30:00  1428.558600    -0.288206  1428.270394\n",
      "2017-07-10 00:45:00  1118.767822     1.088661  1119.856483\n",
      "2017-07-10 01:00:00  1296.711328    -5.811883  1290.899444\n",
      "2017-07-10 01:15:00  1266.401402    -6.573458  1259.827944\n",
      "2017-07-10 01:30:00  1086.171381   -14.958696  1071.212685\n",
      "2017-07-10 01:45:00  1144.749306   -15.089156  1129.660150\n",
      "2017-07-10 02:00:00  1330.003122   -14.770728  1315.232394\n",
      "2017-07-10 02:15:00   786.910067   -15.878244   771.031822\n",
      "2017-07-10 02:30:00  1156.028767   -14.746944  1141.281822\n",
      "2017-07-10 02:45:00   919.758533   -15.255128   904.503406\n",
      "2017-07-10 03:00:00   965.351700   -15.145583   950.206117\n",
      "2017-07-10 03:15:00  1006.170544   -15.180678   990.989867\n",
      "2017-07-10 03:30:00   923.357467   -15.222289   908.135178\n",
      "2017-07-10 03:45:00   883.273478   -15.215217   868.058261\n",
      "2017-07-10 04:00:00   948.830383   -15.177322   933.653061\n",
      "2017-07-10 04:15:00   794.800011   -15.557939   779.242072\n",
      "2017-07-10 04:30:00   986.859637   -15.035855   971.823782\n",
      "2017-07-10 04:45:00   531.748238   -15.565088   516.183149\n",
      "2017-07-10 05:00:00   373.089417   -16.007344   357.082072\n",
      "2017-07-10 05:15:00   243.069767   -15.479156   227.590611\n",
      "2017-07-10 05:30:00   237.703961   -15.511672   222.192289\n",
      "2017-07-10 05:45:00   238.704922   -15.554428   223.150494\n",
      "2017-07-10 06:00:00   239.229389   -15.620083   223.609306\n",
      "2017-07-10 06:15:00   239.030761   -15.683294   223.347467\n",
      "2017-07-10 06:30:00   238.994156   -15.728144   223.266011\n",
      "2017-07-10 06:45:00   381.533539   -15.537228   365.996311\n",
      "2017-07-10 07:00:00  1130.623294    -8.380467  1122.242828\n",
      "2017-07-10 07:15:00   946.343728    90.045061  1036.388789\n",
      "...                          ...          ...          ...\n",
      "2017-07-10 16:30:00  1806.777683   380.551383  2187.329067\n",
      "2017-07-10 16:45:00  1927.043033   275.431833  2202.474867\n",
      "2017-07-10 17:00:00  1963.269450   234.692128  2197.961578\n",
      "2017-07-10 17:15:00  2012.549839   122.759511  2135.309350\n",
      "2017-07-10 17:30:00  2056.167383    72.509344  2128.676728\n",
      "2017-07-10 17:45:00  2129.759994    35.205728  2164.965722\n",
      "2017-07-10 18:00:00  2102.737450    -6.403644  2096.333806\n",
      "2017-07-10 18:15:00  2181.590911   -11.501606  2170.089306\n",
      "2017-07-10 18:30:00  2104.839461   -11.751472  2093.087989\n",
      "2017-07-10 18:45:00  2140.465083   -11.907694  2128.557389\n",
      "2017-07-10 19:00:00  1945.853106   -12.356028  1933.497078\n",
      "2017-07-10 19:15:00  2002.781575   -12.175586  1990.605989\n",
      "2017-07-10 19:30:00  1874.632400   -12.304522  1862.327878\n",
      "2017-07-10 19:45:00  1587.927150   -12.933728  1574.993422\n",
      "2017-07-10 20:00:00   430.907044   -15.527672   415.379372\n",
      "2017-07-10 20:15:00   502.883250   -15.796806   487.086444\n",
      "2017-07-10 20:30:00  1534.886367   -13.857344  1521.029022\n",
      "2017-07-10 20:45:00  1192.638961   -14.753520  1177.885441\n",
      "2017-07-10 21:00:00  1090.968177   -14.938398  1076.029779\n",
      "2017-07-10 21:15:00  1210.644944   -14.768517  1195.876428\n",
      "2017-07-10 21:30:00  1290.026494   -14.485256  1275.541239\n",
      "2017-07-10 21:45:00  1336.132328   -14.319228  1321.813100\n",
      "2017-07-10 22:00:00  1260.930737   -14.555112  1246.375626\n",
      "2017-07-10 22:15:00  1230.651088   -14.527492  1216.123597\n",
      "2017-07-10 22:30:00  1021.263983   -15.026772  1006.237211\n",
      "2017-07-10 22:45:00  1352.709233   -14.349183  1338.360050\n",
      "2017-07-10 23:00:00  1209.777111   -14.784506  1194.992606\n",
      "2017-07-10 23:15:00  1216.606056   -14.812939  1201.793117\n",
      "2017-07-10 23:30:00  1244.072461   -14.420511  1229.651950\n",
      "2017-07-10 23:45:00  1267.099483   -14.202183  1252.897300\n",
      "\n",
      "[96 rows x 3 columns]\n"
     ]
    }
   ],
   "source": [
    "import time\n",
    "import pandas as pd\n",
    "import datetime as dt\n",
    "\n",
    "df = pd.read_csv(\"power_from_meter_test.csv\",parse_dates = True, index_col = 0)\n",
    "#print(df)\n",
    "\n",
    "df.index = pd.to_datetime(df['datetime'])\n",
    "df_avg = df.resample('15min').mean()\n",
    "print(df_avg)"
   ]
  },
  {
   "cell_type": "code",
   "execution_count": 20,
   "metadata": {},
   "outputs": [
    {
     "name": "stdout",
     "output_type": "stream",
     "text": [
      "connects to the database name postgres successfully\n",
      "2017-10-24 17:01:37.178786\n",
      "SELECT * FROM ts_airconditioner WHERE datetime > '2017-10-24 16:31:37.179037' AND datetime < '2017-10-24 16:51:37.179105' ORDER BY datetime\n",
      "0     2017-10-24 16:31:38.867989+00:00\n",
      "1     2017-10-24 16:31:46.716825+00:00\n",
      "2     2017-10-24 16:31:49.545340+00:00\n",
      "3     2017-10-24 16:31:56.728721+00:00\n",
      "4     2017-10-24 16:31:59.289913+00:00\n",
      "5     2017-10-24 16:32:06.713637+00:00\n",
      "6     2017-10-24 16:32:08.573112+00:00\n",
      "7     2017-10-24 16:32:16.726744+00:00\n",
      "8     2017-10-24 16:32:18.093024+00:00\n",
      "9     2017-10-24 16:32:26.720842+00:00\n",
      "10    2017-10-24 16:32:28.571104+00:00\n",
      "11    2017-10-24 16:32:36.760565+00:00\n",
      "12    2017-10-24 16:32:39.276519+00:00\n",
      "13    2017-10-24 16:32:46.738000+00:00\n",
      "14    2017-10-24 16:32:50.131761+00:00\n",
      "15    2017-10-24 16:32:56.722794+00:00\n",
      "16    2017-10-24 16:32:59.497643+00:00\n",
      "17    2017-10-24 16:33:06.738975+00:00\n",
      "18    2017-10-24 16:33:08.205030+00:00\n",
      "19    2017-10-24 16:33:16.734332+00:00\n",
      "20    2017-10-24 16:33:26.742500+00:00\n",
      "21    2017-10-24 16:33:36.747493+00:00\n",
      "22    2017-10-24 16:33:46.732072+00:00\n",
      "23    2017-10-24 16:33:56.716691+00:00\n",
      "24    2017-10-24 16:34:06.721545+00:00\n",
      "25    2017-10-24 16:34:16.717866+00:00\n",
      "26    2017-10-24 16:34:26.725380+00:00\n",
      "27    2017-10-24 16:34:37.716477+00:00\n",
      "28    2017-10-24 16:34:47.718721+00:00\n",
      "29    2017-10-24 16:34:56.729347+00:00\n",
      "                    ...               \n",
      "103   2017-10-24 16:47:16.860857+00:00\n",
      "104   2017-10-24 16:47:26.855139+00:00\n",
      "105   2017-10-24 16:47:36.785577+00:00\n",
      "106   2017-10-24 16:47:46.734273+00:00\n",
      "107   2017-10-24 16:47:56.732421+00:00\n",
      "108   2017-10-24 16:48:06.735235+00:00\n",
      "109   2017-10-24 16:48:07.269718+00:00\n",
      "110   2017-10-24 16:48:16.748239+00:00\n",
      "111   2017-10-24 16:48:21.400840+00:00\n",
      "112   2017-10-24 16:48:26.733525+00:00\n",
      "113   2017-10-24 16:48:36.712128+00:00\n",
      "114   2017-10-24 16:48:46.720180+00:00\n",
      "115   2017-10-24 16:48:56.745770+00:00\n",
      "116   2017-10-24 16:49:06.740122+00:00\n",
      "117   2017-10-24 16:49:16.715160+00:00\n",
      "118   2017-10-24 16:49:26.766587+00:00\n",
      "119   2017-10-24 16:49:36.921783+00:00\n",
      "120   2017-10-24 16:49:46.717604+00:00\n",
      "121   2017-10-24 16:49:56.724508+00:00\n",
      "122   2017-10-24 16:50:06.698650+00:00\n",
      "123   2017-10-24 16:50:16.720224+00:00\n",
      "124   2017-10-24 16:50:26.713947+00:00\n",
      "125   2017-10-24 16:50:36.702799+00:00\n",
      "126   2017-10-24 16:50:46.709181+00:00\n",
      "127   2017-10-24 16:50:47.772752+00:00\n",
      "128   2017-10-24 16:50:56.721402+00:00\n",
      "129   2017-10-24 16:51:06.716382+00:00\n",
      "130   2017-10-24 16:51:16.727643+00:00\n",
      "131   2017-10-24 16:51:26.744117+00:00\n",
      "132   2017-10-24 16:51:36.707024+00:00\n",
      "Name: datetime, Length: 133, dtype: datetime64[ns, UTC]\n"
     ]
    }
   ],
   "source": [
    "import json\n",
    "import psycopg2\n",
    "import psycopg2.extras\n",
    "import datetime\n",
    "import logging\n",
    "import sys\n",
    "import numpy as np\n",
    "import calendar\n",
    "from pandas import DataFrame\n",
    "import pandas as pd\n",
    "\n",
    "NAME = 'postgres'                  # Or path to database file if using sqlite3.\n",
    "USER = 'peahive@peahivestaging'    # Not used with sqlite3.\n",
    "PASSWORD = '28Sep1960'             # Not used with sqlite3.\n",
    "HOST = 'peahivestaging.postgres.database.azure.com'\n",
    "PORT = '5432'            \n",
    "\n",
    "db_host = HOST\n",
    "db_port = PORT\n",
    "db_database = NAME\n",
    "db_user = USER\n",
    "db_password = PASSWORD\n",
    "\n",
    "try:\n",
    "    con = psycopg2.connect(host=db_host, port=db_port, database=db_database,\n",
    "                                user=db_user, password=db_password)\n",
    "    cur = con.cursor()\n",
    "    print (\"connects to the database name {} successfully\".format(db_database))\n",
    "\n",
    "except Exception as er:\n",
    "    print(\"ERROR: fails to connect to the database name {}\".format(er))\n",
    "    \n",
    "# today = str(datetime.datetime.now().date())\n",
    "# print(today)\n",
    "# cur.execute(\"SELECT * FROM ts_airconditioner WHERE datetime > '\" + today + \"' ORDER BY datetime\")\n",
    "# # cur.execute(\"SELECT * FROM ts_airconditioner;\")\n",
    "# print(cur.rowcount)\n",
    "# if bool(cur.rowcount):\n",
    "# #     print(\"got data\")\n",
    "# #     print(cur.fetchall())\n",
    "#     x = cur.fetchall()\n",
    "# #     print(type(x))\n",
    "# else:\n",
    "#     print(\"no data\")\n",
    "    \n",
    "engine = con\n",
    "# create pandas dataframe\n",
    "# df_plot = pd.read_sql_query(\"SELECT * FROM ts_airconditioner WHERE datetime > '\" + today + \"' ORDER BY datetime\",con=engine)\n",
    "# df_plot = pd.read_sql_query(\"SELECT * FROM ts_airconditioner ORDER BY datetime\",con=engine)\n",
    "# print(df)\n",
    "# print(df_plot['datetime'])\n",
    "# d = {'col1': ts1, 'col2': ts2}\n",
    "# df = DataFrame(data=x)\n",
    "# print(df)\n",
    "today = datetime.datetime.now()\n",
    "delta1 = datetime.timedelta(days=0, hours=0, minutes=30)\n",
    "delta2 = datetime.timedelta(days=0, hours=0, minutes=10)\n",
    "start_time = str(datetime.datetime.now() - delta1)\n",
    "# today = dt.datetime.today().hour\n",
    "stop_time = str(datetime.datetime.now() - delta2)\n",
    "print(today)\n",
    "query = \"SELECT * FROM ts_airconditioner WHERE datetime > '\" + start_time + \"' AND datetime < '\"+ stop_time +\"' ORDER BY datetime\"\n",
    "print(query)\n",
    "# df_plot = pd.read_sql_query(\"SELECT * FROM ts_airconditioner WHERE datetime > '\" + start_time + \n",
    "#                             \"'AND datetime < '\"+ stop_time +\"'ORDER BY datetime\",con=engine)\n",
    "# print(df_plot['datetime'])\n",
    "df_plot = pd.read_sql_query(query, con=engine)\n",
    "print(df_plot['datetime'])\n",
    "\n"
   ]
  },
  {
   "cell_type": "code",
   "execution_count": 21,
   "metadata": {},
   "outputs": [
    {
     "data": {
      "text/html": [
       "<iframe id=\"igraph\" scrolling=\"no\" style=\"border:none;\" seamless=\"seamless\" src=\"https://plot.ly/~kwarodom/28.embed\" height=\"525px\" width=\"100%\"></iframe>"
      ],
      "text/plain": [
       "<plotly.tools.PlotlyDisplay object>"
      ]
     },
     "execution_count": 21,
     "metadata": {},
     "output_type": "execute_result"
    }
   ],
   "source": [
    "import numpy as np\n",
    "import pandas as pd\n",
    "import plotly.plotly as py\n",
    "import plotly.tools as tls\n",
    "import plotly.graph_objs as go\n",
    "import cufflinks as cf\n",
    "tls.set_credentials_file(username='kwarodom', api_key='ljMtxORMkyx0JmiDwIyT')\n",
    "\n",
    "tls.embed('https://plot.ly/~cufflinks/8')\n",
    "\n",
    "df = cf.datagen.lines()\n",
    "\n",
    "py.iplot([{\n",
    "    'x': df_plot['datetime'],\n",
    "    'y': df_plot['current_temperature'], 'name':'current_temperature'}, {\n",
    "    'x': df_plot['datetime'],\n",
    "    'y': df_plot['set_temperature'], 'name':'set_temperature'}], filename='cufflinks/simple-line')\n",
    "\n"
   ]
  },
  {
   "cell_type": "code",
   "execution_count": 13,
   "metadata": {},
   "outputs": [
    {
     "name": "stdout",
     "output_type": "stream",
     "text": [
      "Index(['grid_power', 'solar_power', 'load_power'], dtype='object')\n",
      "DatetimeIndex(['2017-07-10 00:00:00', '2017-07-10 00:15:00',\n",
      "               '2017-07-10 00:30:00', '2017-07-10 00:45:00',\n",
      "               '2017-07-10 01:00:00', '2017-07-10 01:15:00',\n",
      "               '2017-07-10 01:30:00', '2017-07-10 01:45:00',\n",
      "               '2017-07-10 02:00:00', '2017-07-10 02:15:00',\n",
      "               '2017-07-10 02:30:00', '2017-07-10 02:45:00',\n",
      "               '2017-07-10 03:00:00', '2017-07-10 03:15:00',\n",
      "               '2017-07-10 03:30:00', '2017-07-10 03:45:00',\n",
      "               '2017-07-10 04:00:00', '2017-07-10 04:15:00',\n",
      "               '2017-07-10 04:30:00', '2017-07-10 04:45:00',\n",
      "               '2017-07-10 05:00:00', '2017-07-10 05:15:00',\n",
      "               '2017-07-10 05:30:00', '2017-07-10 05:45:00',\n",
      "               '2017-07-10 06:00:00', '2017-07-10 06:15:00',\n",
      "               '2017-07-10 06:30:00', '2017-07-10 06:45:00',\n",
      "               '2017-07-10 07:00:00', '2017-07-10 07:15:00',\n",
      "               '2017-07-10 07:30:00', '2017-07-10 07:45:00',\n",
      "               '2017-07-10 08:00:00', '2017-07-10 08:15:00',\n",
      "               '2017-07-10 08:30:00', '2017-07-10 08:45:00',\n",
      "               '2017-07-10 09:00:00', '2017-07-10 09:15:00',\n",
      "               '2017-07-10 09:30:00', '2017-07-10 09:45:00',\n",
      "               '2017-07-10 10:00:00', '2017-07-10 10:15:00',\n",
      "               '2017-07-10 10:30:00', '2017-07-10 10:45:00',\n",
      "               '2017-07-10 11:00:00', '2017-07-10 11:15:00',\n",
      "               '2017-07-10 11:30:00', '2017-07-10 11:45:00',\n",
      "               '2017-07-10 12:00:00', '2017-07-10 12:15:00',\n",
      "               '2017-07-10 12:30:00', '2017-07-10 12:45:00',\n",
      "               '2017-07-10 13:00:00', '2017-07-10 13:15:00',\n",
      "               '2017-07-10 13:30:00', '2017-07-10 13:45:00',\n",
      "               '2017-07-10 14:00:00', '2017-07-10 14:15:00',\n",
      "               '2017-07-10 14:30:00', '2017-07-10 14:45:00',\n",
      "               '2017-07-10 15:00:00', '2017-07-10 15:15:00',\n",
      "               '2017-07-10 15:30:00', '2017-07-10 15:45:00',\n",
      "               '2017-07-10 16:00:00', '2017-07-10 16:15:00',\n",
      "               '2017-07-10 16:30:00', '2017-07-10 16:45:00',\n",
      "               '2017-07-10 17:00:00', '2017-07-10 17:15:00',\n",
      "               '2017-07-10 17:30:00', '2017-07-10 17:45:00',\n",
      "               '2017-07-10 18:00:00', '2017-07-10 18:15:00',\n",
      "               '2017-07-10 18:30:00', '2017-07-10 18:45:00',\n",
      "               '2017-07-10 19:00:00', '2017-07-10 19:15:00',\n",
      "               '2017-07-10 19:30:00', '2017-07-10 19:45:00',\n",
      "               '2017-07-10 20:00:00', '2017-07-10 20:15:00',\n",
      "               '2017-07-10 20:30:00', '2017-07-10 20:45:00',\n",
      "               '2017-07-10 21:00:00', '2017-07-10 21:15:00',\n",
      "               '2017-07-10 21:30:00', '2017-07-10 21:45:00',\n",
      "               '2017-07-10 22:00:00', '2017-07-10 22:15:00',\n",
      "               '2017-07-10 22:30:00', '2017-07-10 22:45:00',\n",
      "               '2017-07-10 23:00:00', '2017-07-10 23:15:00',\n",
      "               '2017-07-10 23:30:00', '2017-07-10 23:45:00'],\n",
      "              dtype='datetime64[ns]', name='datetime', freq='15T')\n"
     ]
    }
   ],
   "source": [
    "print(df_avg.columns)\n",
    "print(df_avg.index)"
   ]
  },
  {
   "cell_type": "code",
   "execution_count": 14,
   "metadata": {},
   "outputs": [
    {
     "name": "stdout",
     "output_type": "stream",
     "text": [
      "             grid_power  solar_power  load_power\n",
      "datetime                                        \n",
      "2017-07-10  1159.253253   319.096187  1478.34944\n"
     ]
    }
   ],
   "source": [
    "import time\n",
    "import pandas as pd\n",
    "import datetime as dt\n",
    "\n",
    "df = pd.read_csv(\"power_from_meter_test.csv\",parse_dates = True, index_col = 0)\n",
    "#print(df)\n",
    "\n",
    "df.index = pd.to_datetime(df['datetime'])\n",
    "df_day = df.resample('D').mean()\n",
    "print(df_day)"
   ]
  },
  {
   "cell_type": "code",
   "execution_count": 15,
   "metadata": {},
   "outputs": [
    {
     "data": {
      "text/html": [
       "<iframe id=\"igraph\" scrolling=\"no\" style=\"border:none;\" seamless=\"seamless\" src=\"https://plot.ly/~kwarodom/28.embed\" height=\"525px\" width=\"100%\"></iframe>"
      ],
      "text/plain": [
       "<plotly.tools.PlotlyDisplay object>"
      ]
     },
     "execution_count": 15,
     "metadata": {},
     "output_type": "execute_result"
    }
   ],
   "source": [
    "import numpy as np\n",
    "import pandas as pd\n",
    "import plotly.plotly as py\n",
    "import plotly.tools as tls\n",
    "import plotly.graph_objs as go\n",
    "import cufflinks as cf\n",
    "tls.set_credentials_file(username='kwarodom', api_key='ljMtxORMkyx0JmiDwIyT')\n",
    "\n",
    "tls.embed('https://plot.ly/~cufflinks/8')\n",
    "\n",
    "df = cf.datagen.lines()\n",
    "\n",
    "py.iplot([{\n",
    "    'x': df_avg.index,\n",
    "    'y': df_avg[col],\n",
    "    'name': col\n",
    "}  for col in df_avg], filename='cufflinks/simple-line')\n"
   ]
  },
  {
   "cell_type": "code",
   "execution_count": 16,
   "metadata": {},
   "outputs": [
    {
     "name": "stdout",
     "output_type": "stream",
     "text": [
      "Index(['grid_power', 'solar_power', 'load_power'], dtype='object')\n",
      "DatetimeIndex(['2017-07-10'], dtype='datetime64[ns]', name='datetime', freq='D')\n"
     ]
    }
   ],
   "source": [
    "print(df_day.columns)\n",
    "print(df_day.index)"
   ]
  },
  {
   "cell_type": "code",
   "execution_count": 17,
   "metadata": {},
   "outputs": [
    {
     "name": "stdout",
     "output_type": "stream",
     "text": [
      "Index(['grid_power', 'solar_power', 'load_power'], dtype='object')\n",
      "(datetime\n",
      "2017-07-10    1159.253253\n",
      "Freq: D, Name: grid_power, dtype: float64, datetime\n",
      "2017-07-10    319.096187\n",
      "Freq: D, Name: solar_power, dtype: float64, datetime\n",
      "2017-07-10    1478.34944\n",
      "Freq: D, Name: load_power, dtype: float64)\n"
     ]
    },
    {
     "data": {
      "text/html": [
       "<iframe id=\"igraph\" scrolling=\"no\" style=\"border:none;\" seamless=\"seamless\" src=\"https://plot.ly/~kwarodom/63.embed\" height=\"525px\" width=\"100%\"></iframe>"
      ],
      "text/plain": [
       "<plotly.tools.PlotlyDisplay object>"
      ]
     },
     "execution_count": 17,
     "metadata": {},
     "output_type": "execute_result"
    }
   ],
   "source": [
    "import plotly.plotly as py\n",
    "import plotly.graph_objs as go\n",
    "\n",
    "labels = df_day.columns\n",
    "print(labels)\n",
    "values = df_day['grid_power'], df_day['solar_power'], df_day['load_power'],\n",
    "print(values)\n",
    "\n",
    "trace = go.Pie(labels=labels, values=values)\n",
    "\n",
    "py.iplot([trace], filename='basic_pie_chart')"
   ]
  },
  {
   "cell_type": "code",
   "execution_count": 18,
   "metadata": {},
   "outputs": [
    {
     "name": "stdout",
     "output_type": "stream",
     "text": [
      "0.12.0\n"
     ]
    }
   ],
   "source": [
    "import cufflinks as cf\n",
    "print(cf.__version__)"
   ]
  },
  {
   "cell_type": "code",
   "execution_count": 19,
   "metadata": {},
   "outputs": [
    {
     "name": "stdout",
     "output_type": "stream",
     "text": [
      "Requirement already up-to-date: cufflinks in /Users/kwarodom/anaconda/lib/python2.7/site-packages\n",
      "Requirement already up-to-date: pandas in /Users/kwarodom/anaconda/lib/python2.7/site-packages (from cufflinks)\n",
      "Requirement already up-to-date: plotly>=2.0.0 in /Users/kwarodom/anaconda/lib/python2.7/site-packages (from cufflinks)\n",
      "Requirement already up-to-date: colorlover>=0.2 in /Users/kwarodom/anaconda/lib/python2.7/site-packages (from cufflinks)\n",
      "Requirement already up-to-date: python-dateutil in /Users/kwarodom/anaconda/lib/python2.7/site-packages (from pandas->cufflinks)\n",
      "Requirement already up-to-date: numpy>=1.7.0 in /Users/kwarodom/anaconda/lib/python2.7/site-packages (from pandas->cufflinks)\n",
      "Requirement already up-to-date: pytz>=2011k in /Users/kwarodom/anaconda/lib/python2.7/site-packages (from pandas->cufflinks)\n",
      "Requirement already up-to-date: nbformat>=4.2 in /Users/kwarodom/anaconda/lib/python2.7/site-packages (from plotly>=2.0.0->cufflinks)\n",
      "Requirement already up-to-date: six in /Users/kwarodom/anaconda/lib/python2.7/site-packages (from plotly>=2.0.0->cufflinks)\n",
      "Requirement already up-to-date: requests in /Users/kwarodom/anaconda/lib/python2.7/site-packages (from plotly>=2.0.0->cufflinks)\n",
      "Requirement already up-to-date: decorator>=4.0.6 in /Users/kwarodom/anaconda/lib/python2.7/site-packages (from plotly>=2.0.0->cufflinks)\n",
      "Requirement already up-to-date: ipython-genutils in /Users/kwarodom/anaconda/lib/python2.7/site-packages (from nbformat>=4.2->plotly>=2.0.0->cufflinks)\n",
      "Requirement already up-to-date: traitlets>=4.1 in /Users/kwarodom/anaconda/lib/python2.7/site-packages (from nbformat>=4.2->plotly>=2.0.0->cufflinks)\n",
      "Requirement already up-to-date: jupyter-core in /Users/kwarodom/anaconda/lib/python2.7/site-packages (from nbformat>=4.2->plotly>=2.0.0->cufflinks)\n",
      "Requirement already up-to-date: jsonschema!=2.5.0,>=2.4 in /Users/kwarodom/anaconda/lib/python2.7/site-packages (from nbformat>=4.2->plotly>=2.0.0->cufflinks)\n",
      "Requirement already up-to-date: chardet<3.1.0,>=3.0.2 in /Users/kwarodom/anaconda/lib/python2.7/site-packages (from requests->plotly>=2.0.0->cufflinks)\n",
      "Requirement already up-to-date: certifi>=2017.4.17 in /Users/kwarodom/anaconda/lib/python2.7/site-packages (from requests->plotly>=2.0.0->cufflinks)\n",
      "Requirement already up-to-date: urllib3<1.23,>=1.21.1 in /Users/kwarodom/anaconda/lib/python2.7/site-packages (from requests->plotly>=2.0.0->cufflinks)\n",
      "Requirement already up-to-date: idna<2.7,>=2.5 in /Users/kwarodom/anaconda/lib/python2.7/site-packages (from requests->plotly>=2.0.0->cufflinks)\n",
      "Requirement already up-to-date: enum34; python_version == \"2.7\" in /Users/kwarodom/anaconda/lib/python2.7/site-packages (from traitlets>=4.1->nbformat>=4.2->plotly>=2.0.0->cufflinks)\n",
      "Requirement already up-to-date: functools32; python_version == \"2.7\" in /Users/kwarodom/anaconda/lib/python2.7/site-packages (from jsonschema!=2.5.0,>=2.4->nbformat>=4.2->plotly>=2.0.0->cufflinks)\n"
     ]
    }
   ],
   "source": [
    "!pip install cufflinks --upgrade"
   ]
  },
  {
   "cell_type": "code",
   "execution_count": null,
   "metadata": {
    "collapsed": true
   },
   "outputs": [],
   "source": []
  },
  {
   "cell_type": "code",
   "execution_count": null,
   "metadata": {
    "collapsed": true
   },
   "outputs": [],
   "source": []
  }
 ],
 "metadata": {
  "kernelspec": {
   "display_name": "Python 3",
   "language": "python",
   "name": "python3"
  },
  "language_info": {
   "codemirror_mode": {
    "name": "ipython",
    "version": 3
   },
   "file_extension": ".py",
   "mimetype": "text/x-python",
   "name": "python",
   "nbconvert_exporter": "python",
   "pygments_lexer": "ipython3",
   "version": "3.6.1"
  }
 },
 "nbformat": 4,
 "nbformat_minor": 2
}
