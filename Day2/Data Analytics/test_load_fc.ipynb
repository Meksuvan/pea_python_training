{
 "cells": [
  {
   "cell_type": "code",
   "execution_count": 1,
   "metadata": {
    "collapsed": true
   },
   "outputs": [],
   "source": [
    "import requests\n",
    "import json\n",
    "import psycopg2\n",
    "import psycopg2.extras\n",
    "from datetime import datetime\n",
    "import numpy as np\n",
    "import calendar\n",
    "from pandas import DataFrame\n",
    "import pandas as pd\n",
    "import time"
   ]
  },
  {
   "cell_type": "code",
   "execution_count": null,
   "metadata": {
    "collapsed": true
   },
   "outputs": [],
   "source": [
    "url = 'http://api.wunderground.com/api/9112e570d64832fa/history_20170504/q/Thailand/Chiang_rai.json'\n",
    "data_hist = requests.get(url).json()\n",
    "data_day = data_hist['history']['observations']\n",
    "len_per_day = len(data_day)\n",
    "# print(data_hist['history']['observations'][0]['date']['pretty'])\n",
    "# print(data_hist['history']['observations'][0]['tempm'])\n",
    "# print(data_hist['history']['observations'][0]['hum'])\n",
    "# print(data_hist['history']['observations'][0]['conds'])\n",
    "# print(data_hist['history']['observations'][0]['icon'])\n",
    "# print(data_hist['history']['observations'][0]['fog'])\n",
    "# print(data_hist['history']['observations'][0]['rain'])\n",
    "# print(data_hist['history']['observations'][0]['thunder'])"
   ]
  },
  {
   "cell_type": "code",
   "execution_count": null,
   "metadata": {
    "collapsed": true
   },
   "outputs": [],
   "source": [
    "# read activepower from csv\n",
    "df_load = pd.read_csv(\"load_power.csv\",parse_dates = True, index_col = 0)\n",
    "# print(df_load[:5])\n",
    "# df.index = pd.to_datetime(df['datetime'])\n",
    "# df_avg = df.resample('15min').mean()\n",
    "\n",
    "# print(df_load.index[0])\n",
    "# print(type(df_load.index[0]))\n",
    "# print(df_load['activepower'][0])\n",
    "# print(str(df_load['activepower'][0]))\n",
    "# print(len(df_load))"
   ]
  },
  {
   "cell_type": "code",
   "execution_count": 2,
   "metadata": {
    "collapsed": true
   },
   "outputs": [],
   "source": [
    "# database\n",
    "db_host = \"peahivestaging.postgres.database.azure.com\"\n",
    "db_port = \"5432\"\n",
    "db_database = \"postgres\"\n",
    "db_user = \"peahive@peahivestaging\"\n",
    "db_password = \"28Sep1960\""
   ]
  },
  {
   "cell_type": "code",
   "execution_count": null,
   "metadata": {
    "collapsed": true
   },
   "outputs": [],
   "source": [
    "# connects to database\n",
    "try:\n",
    "    con = psycopg2.connect(host=db_host, port=db_port, database=db_database, user=db_user, password=db_password)\n",
    "    cur = con.cursor()\n",
    "    print (\"Connects to database successfully\")\n",
    "except Exception as er:\n",
    "    print (\"CONNECTION ERROR: {}\".format(er))"
   ]
  },
  {
   "cell_type": "code",
   "execution_count": null,
   "metadata": {
    "collapsed": true
   },
   "outputs": [],
   "source": [
    "# activepower in database\n",
    "for i in range(750):\n",
    "    try:\n",
    "        query = \"INSERT INTO ts_feature_load (datetime, power) \" + \"VALUES ('\"+df_load.index[i]+\"','\"+str(df_load['activepower'][i])+\"')\"\n",
    "        #print(query)\n",
    "        cur.execute(query)\n",
    "        con.commit()\n",
    "    except Exception as er:\n",
    "        print (\"error: {}\".format(er))"
   ]
  },
  {
   "cell_type": "code",
   "execution_count": null,
   "metadata": {
    "collapsed": true
   },
   "outputs": [],
   "source": [
    "# disconnects to database\n",
    "try:\n",
    "    if (con.closed == False):\n",
    "        con.close()\n",
    "        print (\"Disconnects to database successfully\")\n",
    "except Exception as er:\n",
    "    print (\"DISCONNECTION ERROR: {}\".format(er))"
   ]
  },
  {
   "cell_type": "code",
   "execution_count": null,
   "metadata": {
    "collapsed": true
   },
   "outputs": [],
   "source": [
    "try:\n",
    "    con = psycopg2.connect(host=db_host, port=db_port, database=db_database, user=db_user, password=db_password)\n",
    "    cur = con.cursor()\n",
    "    print (\"Connects to database successfully\")\n",
    "except Exception as er:\n",
    "    print (\"CONNECTION ERROR: {}\".format(er))\n",
    "    \n",
    "url = 'http://api.wunderground.com/api/9112e570d64832fa/history_20170531/q/Thailand/Chiang_rai.json'\n",
    "data_hist = requests.get(url).json()\n",
    "data_day = data_hist['history']['observations']\n",
    "len_per_day = len(data_day)\n",
    "\n",
    "df = {}\n",
    "for i in range(len_per_day):\n",
    "#     format1 = '%Y-%m-%d %H:%M:%S+00:00'\n",
    "#     temp_time = str(datetime.strptime(str(df_time['datetime'][i]), format1))\n",
    "#     print(temp_time)\n",
    "    web_time = str(datetime.strptime(str(data_hist['history']['observations'][i]['date']['pretty']), '%I:%M %p +07 on %B %d, %Y'))\n",
    "    #print(web_time)\n",
    "    df['pretty'] = web_time\n",
    "    df['tempm']  = data_hist['history']['observations'][i]['tempm']\n",
    "    if (data_hist['history']['observations'][i]['hum'] == 'N/A'):\n",
    "        df['hum']  = str(-9999)\n",
    "    else:\n",
    "        df['hum']  = data_hist['history']['observations'][i]['hum']\n",
    "        \n",
    "    df['winds']  = data_hist['history']['observations'][i]['windchillm']\n",
    "    df['pressure']  = data_hist['history']['observations'][i]['pressurem']\n",
    "    df['heat_index']  = data_hist['history']['observations'][i]['heatindexm']\n",
    "    df['conds']  = data_hist['history']['observations'][i]['conds']\n",
    "    df['icon']  = data_hist['history']['observations'][i]['icon']\n",
    "    df['fog']  = data_hist['history']['observations'][i]['fog']\n",
    "    df['rain']  = data_hist['history']['observations'][i]['rain']\n",
    "    df['snow']  = data_hist['history']['observations'][i]['snow']\n",
    "    df['hail']  = data_hist['history']['observations'][i]['hail']\n",
    "    df['thunder']  = data_hist['history']['observations'][i]['thunder']\n",
    "    df['tornado']  = data_hist['history']['observations'][i]['tornado']\n",
    "\n",
    "    try:\n",
    "        query = \"UPDATE ts_feature_load SET tempc='\"+df['tempm']+\"', humidity='\"+df['hum']+\"', wind_speed='\"+df['winds']+\"', pressure='\"+df['pressure']+\"', heat_index='\"+df['heat_index']+\"', cond='\"+df['conds']+\"', icon='\"+df['icon']+\"', fog='\"+df['fog']+\"', rain='\"+df['rain']+\"', snow='\"+df['snow']+\"', hail='\"+df['hail']+\"', thunder='\"+df['thunder']+\"', tornado='\"+df['tornado']+\"' WHERE datetime= '\"+web_time+\"'\"\n",
    "        #print(query)\n",
    "        cur.execute(query)\n",
    "        con.commit()\n",
    "    except Exception as er:\n",
    "        print (\"error: {}\".format(er))\n",
    "        \n",
    "try:\n",
    "    if (con.closed == False):\n",
    "        con.close()\n",
    "        print (\"Disconnects to database successfully\")\n",
    "except Exception as er:\n",
    "    print (\"DISCONNECTION ERROR: {}\".format(er))\n",
    "    "
   ]
  },
  {
   "cell_type": "code",
   "execution_count": 3,
   "metadata": {},
   "outputs": [
    {
     "name": "stdout",
     "output_type": "stream",
     "text": [
      "Connects to database successfully\n"
     ]
    },
    {
     "name": "stderr",
     "output_type": "stream",
     "text": [
      "C:\\Users\\Phanumat\\Anaconda3\\lib\\site-packages\\ipykernel_launcher.py:14: SettingWithCopyWarning: \n",
      "A value is trying to be set on a copy of a slice from a DataFrame\n",
      "\n",
      "See the caveats in the documentation: http://pandas.pydata.org/pandas-docs/stable/indexing.html#indexing-view-versus-copy\n",
      "  \n",
      "C:\\Users\\Phanumat\\Anaconda3\\lib\\site-packages\\ipykernel_launcher.py:16: SettingWithCopyWarning: \n",
      "A value is trying to be set on a copy of a slice from a DataFrame\n",
      "\n",
      "See the caveats in the documentation: http://pandas.pydata.org/pandas-docs/stable/indexing.html#indexing-view-versus-copy\n",
      "  app.launch_new_instance()\n"
     ]
    },
    {
     "name": "stdout",
     "output_type": "stream",
     "text": [
      "OK\n",
      "OK\n",
      "OK\n"
     ]
    },
    {
     "name": "stderr",
     "output_type": "stream",
     "text": [
      "C:\\Users\\Phanumat\\Anaconda3\\lib\\site-packages\\ipykernel_launcher.py:21: SettingWithCopyWarning: \n",
      "A value is trying to be set on a copy of a slice from a DataFrame\n",
      "\n",
      "See the caveats in the documentation: http://pandas.pydata.org/pandas-docs/stable/indexing.html#indexing-view-versus-copy\n",
      "C:\\Users\\Phanumat\\Anaconda3\\lib\\site-packages\\ipykernel_launcher.py:23: SettingWithCopyWarning: \n",
      "A value is trying to be set on a copy of a slice from a DataFrame\n",
      "\n",
      "See the caveats in the documentation: http://pandas.pydata.org/pandas-docs/stable/indexing.html#indexing-view-versus-copy\n"
     ]
    },
    {
     "name": "stdout",
     "output_type": "stream",
     "text": [
      "OK\n",
      "OK\n",
      "OK\n",
      "Disconnects to database successfully\n"
     ]
    }
   ],
   "source": [
    "# select database\n",
    "try:\n",
    "    con = psycopg2.connect(host=db_host, port=db_port, database=db_database, user=db_user, password=db_password)\n",
    "    cur = con.cursor()\n",
    "    print (\"Connects to database successfully\")\n",
    "except Exception as er:\n",
    "    print (\"CONNECTION ERROR: {}\".format(er))\n",
    "    \n",
    "query_df = \"SELECT * FROM ts_feature_load ORDER BY datetime\"\n",
    "df_all = pd.read_sql_query(query_df, con)\n",
    "\n",
    "for i in range(len(df_all)):\n",
    "    if (np.isnan(df_all['tempc'][i]) == True):\n",
    "        df_all['tempc'][i] = '25'\n",
    "    if (df_all['tempc'][i] == -9999):\n",
    "        df_all['tempc'][i] = '25'\n",
    "        print('OK')\n",
    "        \n",
    "for i in range(len(df_all)):\n",
    "    if (np.isnan(df_all['humidity'][i]) == True):\n",
    "        df_all['humidity'][i] = '65'\n",
    "    if (df_all['humidity'][i] == -9999):\n",
    "        df_all['humidity'][i] = '65'\n",
    "        print('OK')\n",
    "\n",
    "try:\n",
    "    if (con.closed == False):\n",
    "        con.close()\n",
    "        print (\"Disconnects to database successfully\")\n",
    "except Exception as er:\n",
    "    print (\"DISCONNECTION ERROR: {}\".format(er))\n",
    "    \n",
    "\n"
   ]
  },
  {
   "cell_type": "code",
   "execution_count": 4,
   "metadata": {},
   "outputs": [
    {
     "name": "stdout",
     "output_type": "stream",
     "text": [
      "                   datetime  tempc  humidity      power\n",
      "0 2017-05-01 00:00:00+00:00   25.0      94.0  19.500000\n",
      "1 2017-05-01 01:00:00+00:00   24.0      94.0  18.166667\n",
      "2 2017-05-01 02:00:00+00:00   25.0      65.0  14.666667\n",
      "3 2017-05-01 03:00:00+00:00   25.0      65.0  14.000000\n",
      "4 2017-05-01 04:00:00+00:00   23.0     100.0  13.333333\n"
     ]
    }
   ],
   "source": [
    "df_test = df_all[['datetime', 'tempc', 'humidity', 'power']].copy()\n",
    "print(df_test.head())"
   ]
  },
  {
   "cell_type": "code",
   "execution_count": 5,
   "metadata": {},
   "outputs": [
    {
     "name": "stderr",
     "output_type": "stream",
     "text": [
      "C:\\Users\\Phanumat\\Anaconda3\\lib\\site-packages\\ipykernel_launcher.py:20: SettingWithCopyWarning: \n",
      "A value is trying to be set on a copy of a slice from a DataFrame\n",
      "\n",
      "See the caveats in the documentation: http://pandas.pydata.org/pandas-docs/stable/indexing.html#indexing-view-versus-copy\n",
      "C:\\Users\\Phanumat\\Anaconda3\\lib\\site-packages\\ipykernel_launcher.py:23: SettingWithCopyWarning: \n",
      "A value is trying to be set on a copy of a slice from a DataFrame\n",
      "\n",
      "See the caveats in the documentation: http://pandas.pydata.org/pandas-docs/stable/indexing.html#indexing-view-versus-copy\n",
      "C:\\Users\\Phanumat\\Anaconda3\\lib\\site-packages\\ipykernel_launcher.py:27: SettingWithCopyWarning: \n",
      "A value is trying to be set on a copy of a slice from a DataFrame\n",
      "\n",
      "See the caveats in the documentation: http://pandas.pydata.org/pandas-docs/stable/indexing.html#indexing-view-versus-copy\n",
      "C:\\Users\\Phanumat\\Anaconda3\\lib\\site-packages\\ipykernel_launcher.py:29: SettingWithCopyWarning: \n",
      "A value is trying to be set on a copy of a slice from a DataFrame\n",
      "\n",
      "See the caveats in the documentation: http://pandas.pydata.org/pandas-docs/stable/indexing.html#indexing-view-versus-copy\n",
      "C:\\Users\\Phanumat\\Anaconda3\\lib\\site-packages\\ipykernel_launcher.py:31: SettingWithCopyWarning: \n",
      "A value is trying to be set on a copy of a slice from a DataFrame\n",
      "\n",
      "See the caveats in the documentation: http://pandas.pydata.org/pandas-docs/stable/indexing.html#indexing-view-versus-copy\n",
      "C:\\Users\\Phanumat\\Anaconda3\\lib\\site-packages\\ipykernel_launcher.py:33: SettingWithCopyWarning: \n",
      "A value is trying to be set on a copy of a slice from a DataFrame\n",
      "\n",
      "See the caveats in the documentation: http://pandas.pydata.org/pandas-docs/stable/indexing.html#indexing-view-versus-copy\n"
     ]
    },
    {
     "name": "stdout",
     "output_type": "stream",
     "text": [
      "Index(['datetime', 'tempc', 'humidity', 'power', 'HH', 'H0', 'H1', 'H2', 'H3',\n",
      "       'H4', 'H5', 'H6', 'H7', 'H8', 'H9', 'H10', 'H11', 'H12', 'H13', 'H14',\n",
      "       'H15', 'H16', 'H17', 'H18', 'H19', 'H20', 'H21', 'H22', 'H23', 'Night',\n",
      "       'Morning', 'Afternoon', 'Evening'],\n",
      "      dtype='object')\n",
      "                   datetime  tempc  humidity      power  HH  H0  H1  H2  H3  \\\n",
      "0 2017-05-01 00:00:00+00:00   25.0      94.0  19.500000   0   1   0   0   0   \n",
      "1 2017-05-01 01:00:00+00:00   24.0      94.0  18.166667   1   0   1   0   0   \n",
      "2 2017-05-01 02:00:00+00:00   25.0      65.0  14.666667   2   0   0   1   0   \n",
      "3 2017-05-01 03:00:00+00:00   25.0      65.0  14.000000   3   0   0   0   1   \n",
      "4 2017-05-01 04:00:00+00:00   23.0     100.0  13.333333   4   0   0   0   0   \n",
      "\n",
      "   H4   ...     H18  H19  H20  H21  H22  H23  Night  Morning  Afternoon  \\\n",
      "0   0   ...       0    0    0    0    0    0      1        0          0   \n",
      "1   0   ...       0    0    0    0    0    0      1        0          0   \n",
      "2   0   ...       0    0    0    0    0    0      1        0          0   \n",
      "3   0   ...       0    0    0    0    0    0      1        0          0   \n",
      "4   1   ...       0    0    0    0    0    0      1        0          0   \n",
      "\n",
      "   Evening  \n",
      "0        0  \n",
      "1        0  \n",
      "2        0  \n",
      "3        0  \n",
      "4        0  \n",
      "\n",
      "[5 rows x 33 columns]\n"
     ]
    }
   ],
   "source": [
    "for i in range(24):\n",
    "    keys_hour = 'H'+str(i)\n",
    "    df_test[keys_hour]= 0\n",
    "\n",
    "for i in range(len(df_test)):\n",
    "    temp_time = datetime.strptime(str(df_test['datetime'][i]), '%Y-%m-%d %H:%M:%S+00:00')\n",
    "    temp_hour = temp_time.hour\n",
    "    #print(temp_hour)\n",
    "    keys_hour = 'H'+str(temp_hour)\n",
    "    #print(keys_hour)\n",
    "    \n",
    "    # column HX\n",
    "    df_test[keys_hour][i] = 1\n",
    "        \n",
    "print(df_test.columns)\n",
    "print(df_test.head())"
   ]
  },
  {
   "cell_type": "code",
   "execution_count": 6,
   "metadata": {},
   "outputs": [
    {
     "name": "stdout",
     "output_type": "stream",
     "text": [
      "                   datetime  tempc  humidity  wind_speed  pressure  \\\n",
      "0 2017-05-01 00:00:00+00:00   25.0      94.0      -999.0    1010.0   \n",
      "1 2017-05-01 01:00:00+00:00   24.0      94.0      -999.0    1010.0   \n",
      "2 2017-05-01 02:00:00+00:00   25.0      65.0         NaN       NaN   \n",
      "3 2017-05-01 03:00:00+00:00   25.0      65.0         NaN       NaN   \n",
      "4 2017-05-01 04:00:00+00:00   23.0     100.0      -999.0    1010.0   \n",
      "\n",
      "   heat_index   cond   icon  fog  rain  snow  hail  thunder  tornado  \\\n",
      "0     -9999.0  Clear  clear  0.0   0.0   0.0   0.0      0.0      0.0   \n",
      "1     -9999.0  Clear  clear  0.0   0.0   0.0   0.0      0.0      0.0   \n",
      "2         NaN   None   None  NaN   NaN   NaN   NaN      NaN      NaN   \n",
      "3         NaN   None   None  NaN   NaN   NaN   NaN      NaN      NaN   \n",
      "4     -9999.0  Clear  clear  0.0   0.0   0.0   0.0      0.0      0.0   \n",
      "\n",
      "       power  \n",
      "0  19.500000  \n",
      "1  18.166667  \n",
      "2  14.666667  \n",
      "3  14.000000  \n",
      "4  13.333333  \n",
      "                     datetime  tempc  humidity      power  HH  H0  H1  H2  H3  \\\n",
      "0   2017-05-01 00:00:00+00:00   25.0      94.0  19.500000   0   1   0   0   0   \n",
      "1   2017-05-01 01:00:00+00:00   24.0      94.0  18.166667   1   0   1   0   0   \n",
      "2   2017-05-01 02:00:00+00:00   25.0      65.0  14.666667   2   0   0   1   0   \n",
      "3   2017-05-01 03:00:00+00:00   25.0      65.0  14.000000   3   0   0   0   1   \n",
      "4   2017-05-01 04:00:00+00:00   23.0     100.0  13.333333   4   0   0   0   0   \n",
      "5   2017-05-01 05:00:00+00:00   25.0      65.0  13.166667   5   0   0   0   0   \n",
      "6   2017-05-01 06:00:00+00:00   25.0      65.0  13.333333   6   0   0   0   0   \n",
      "7   2017-05-01 07:00:00+00:00   23.0     100.0  16.000000   7   0   0   0   0   \n",
      "8   2017-05-01 08:00:00+00:00   25.0      89.0  11.666667   8   0   0   0   0   \n",
      "9   2017-05-01 09:00:00+00:00   28.0      74.0  15.666667   9   0   0   0   0   \n",
      "10  2017-05-01 10:00:00+00:00   30.0      66.0  16.000000  10   0   0   0   0   \n",
      "11  2017-05-01 11:00:00+00:00   31.0      70.0  14.666667  11   0   0   0   0   \n",
      "12  2017-05-01 12:00:00+00:00   32.0      62.0  16.833333  12   0   0   0   0   \n",
      "13  2017-05-01 13:00:00+00:00   33.0      63.0  15.333333  13   0   0   0   0   \n",
      "14  2017-05-01 14:00:00+00:00   34.0      56.0  19.666667  14   0   0   0   0   \n",
      "15  2017-05-01 15:00:00+00:00   34.0      56.0  22.166667  15   0   0   0   0   \n",
      "16  2017-05-01 16:00:00+00:00   34.0      56.0  20.333333  16   0   0   0   0   \n",
      "17  2017-05-01 17:00:00+00:00   34.0      56.0  18.833333  17   0   0   0   0   \n",
      "18  2017-05-01 18:00:00+00:00   33.0      59.0  21.333333  18   0   0   0   0   \n",
      "19  2017-05-01 19:00:00+00:00   30.0      58.0  29.333333  19   0   0   0   0   \n",
      "20  2017-05-01 20:00:00+00:00   28.0      62.0  31.666667  20   0   0   0   0   \n",
      "21  2017-05-01 21:00:00+00:00   27.0      65.0  29.166667  21   0   0   0   0   \n",
      "22  2017-05-01 22:00:00+00:00   25.0      78.0  27.333333  22   0   0   0   0   \n",
      "23  2017-05-01 23:00:00+00:00   25.0      65.0  21.166667  23   0   0   0   0   \n",
      "24  2017-05-02 00:00:00+00:00   25.0      65.0  18.500000   0   1   0   0   0   \n",
      "25  2017-05-02 01:00:00+00:00   25.0      78.0  16.166667   1   0   1   0   0   \n",
      "26  2017-05-02 02:00:00+00:00   25.0      65.0  14.500000   2   0   0   1   0   \n",
      "27  2017-05-02 03:00:00+00:00   25.0      65.0  14.166667   3   0   0   0   1   \n",
      "28  2017-05-02 04:00:00+00:00   23.0      94.0  13.333333   4   0   0   0   0   \n",
      "29  2017-05-02 05:00:00+00:00   25.0      65.0  12.666667   5   0   0   0   0   \n",
      "..                        ...    ...       ...        ...  ..  ..  ..  ..  ..   \n",
      "720 2017-05-31 00:00:00+00:00   25.0     100.0  26.666667   0   1   0   0   0   \n",
      "721 2017-05-31 01:00:00+00:00   25.0     100.0  25.833333   1   0   1   0   0   \n",
      "722 2017-05-31 02:00:00+00:00   25.0      65.0  24.500000   2   0   0   1   0   \n",
      "723 2017-05-31 03:00:00+00:00   25.0      65.0  24.333333   3   0   0   0   1   \n",
      "724 2017-05-31 04:00:00+00:00   25.0     100.0  23.166667   4   0   0   0   0   \n",
      "725 2017-05-31 05:00:00+00:00   25.0      65.0  25.000000   5   0   0   0   0   \n",
      "726 2017-05-31 06:00:00+00:00   25.0     100.0  22.333333   6   0   0   0   0   \n",
      "727 2017-05-31 07:00:00+00:00   25.0     100.0  22.833333   7   0   0   0   0   \n",
      "728 2017-05-31 08:00:00+00:00   25.0     100.0  23.500000   8   0   0   0   0   \n",
      "729 2017-05-31 09:00:00+00:00   26.0      94.0  23.333333   9   0   0   0   0   \n",
      "730 2017-05-31 10:00:00+00:00   28.0      84.0  21.166667  10   0   0   0   0   \n",
      "731 2017-05-31 11:00:00+00:00   29.0      79.0  25.166667  11   0   0   0   0   \n",
      "732 2017-05-31 12:00:00+00:00   30.0      74.0  23.000000  12   0   0   0   0   \n",
      "733 2017-05-31 13:00:00+00:00   32.0      66.0  21.333333  13   0   0   0   0   \n",
      "734 2017-05-31 14:00:00+00:00   32.0      70.0  25.166667  14   0   0   0   0   \n",
      "735 2017-05-31 15:00:00+00:00   32.0      70.0  24.833333  15   0   0   0   0   \n",
      "736 2017-05-31 16:00:00+00:00   31.0      70.0  22.166667  16   0   0   0   0   \n",
      "737 2017-05-31 17:00:00+00:00   25.0     100.0  29.166667  17   0   0   0   0   \n",
      "738 2017-05-31 18:00:00+00:00   24.0     100.0  32.666667  18   0   0   0   0   \n",
      "739 2017-05-31 19:00:00+00:00   25.0     100.0  41.000000  19   0   0   0   0   \n",
      "740 2017-05-31 20:00:00+00:00   24.0     100.0  44.666667  20   0   0   0   0   \n",
      "741 2017-05-31 21:00:00+00:00   24.0     100.0  39.500000  21   0   0   0   0   \n",
      "742 2017-05-31 22:00:00+00:00   24.0     100.0  35.333333  22   0   0   0   0   \n",
      "743 2017-05-31 23:00:00+00:00   24.0     100.0  29.666667  23   0   0   0   0   \n",
      "744 2017-06-01 00:00:00+00:00   25.0      65.0  27.000000   0   1   0   0   0   \n",
      "745 2017-06-01 01:00:00+00:00   25.0      65.0  25.166667   1   0   1   0   0   \n",
      "746 2017-06-01 02:00:00+00:00   25.0      65.0  24.500000   2   0   0   1   0   \n",
      "747 2017-06-01 03:00:00+00:00   25.0      65.0  23.000000   3   0   0   0   1   \n",
      "748 2017-06-01 04:00:00+00:00   25.0      65.0  23.333333   4   0   0   0   0   \n",
      "749 2017-06-01 05:00:00+00:00   25.0      65.0  23.833333   5   0   0   0   0   \n",
      "\n",
      "     H4   ...     H18  H19  H20  H21  H22  H23  Night  Morning  Afternoon  \\\n",
      "0     0   ...       0    0    0    0    0    0      1        0          0   \n",
      "1     0   ...       0    0    0    0    0    0      1        0          0   \n",
      "2     0   ...       0    0    0    0    0    0      1        0          0   \n",
      "3     0   ...       0    0    0    0    0    0      1        0          0   \n",
      "4     1   ...       0    0    0    0    0    0      1        0          0   \n",
      "5     0   ...       0    0    0    0    0    0      1        0          0   \n",
      "6     0   ...       0    0    0    0    0    0      0        1          0   \n",
      "7     0   ...       0    0    0    0    0    0      0        1          0   \n",
      "8     0   ...       0    0    0    0    0    0      0        1          0   \n",
      "9     0   ...       0    0    0    0    0    0      0        1          0   \n",
      "10    0   ...       0    0    0    0    0    0      0        1          0   \n",
      "11    0   ...       0    0    0    0    0    0      0        1          0   \n",
      "12    0   ...       0    0    0    0    0    0      0        0          1   \n",
      "13    0   ...       0    0    0    0    0    0      0        0          1   \n",
      "14    0   ...       0    0    0    0    0    0      0        0          1   \n",
      "15    0   ...       0    0    0    0    0    0      0        0          1   \n",
      "16    0   ...       0    0    0    0    0    0      0        0          1   \n",
      "17    0   ...       0    0    0    0    0    0      0        0          1   \n",
      "18    0   ...       1    0    0    0    0    0      0        0          0   \n",
      "19    0   ...       0    1    0    0    0    0      0        0          0   \n",
      "20    0   ...       0    0    1    0    0    0      0        0          0   \n",
      "21    0   ...       0    0    0    1    0    0      0        0          0   \n",
      "22    0   ...       0    0    0    0    1    0      0        0          0   \n",
      "23    0   ...       0    0    0    0    0    1      0        0          0   \n",
      "24    0   ...       0    0    0    0    0    0      1        0          0   \n",
      "25    0   ...       0    0    0    0    0    0      1        0          0   \n",
      "26    0   ...       0    0    0    0    0    0      1        0          0   \n",
      "27    0   ...       0    0    0    0    0    0      1        0          0   \n",
      "28    1   ...       0    0    0    0    0    0      1        0          0   \n",
      "29    0   ...       0    0    0    0    0    0      1        0          0   \n",
      "..   ..   ...     ...  ...  ...  ...  ...  ...    ...      ...        ...   \n",
      "720   0   ...       0    0    0    0    0    0      1        0          0   \n",
      "721   0   ...       0    0    0    0    0    0      1        0          0   \n",
      "722   0   ...       0    0    0    0    0    0      1        0          0   \n",
      "723   0   ...       0    0    0    0    0    0      1        0          0   \n",
      "724   1   ...       0    0    0    0    0    0      1        0          0   \n",
      "725   0   ...       0    0    0    0    0    0      1        0          0   \n",
      "726   0   ...       0    0    0    0    0    0      0        1          0   \n",
      "727   0   ...       0    0    0    0    0    0      0        1          0   \n",
      "728   0   ...       0    0    0    0    0    0      0        1          0   \n",
      "729   0   ...       0    0    0    0    0    0      0        1          0   \n",
      "730   0   ...       0    0    0    0    0    0      0        1          0   \n",
      "731   0   ...       0    0    0    0    0    0      0        1          0   \n",
      "732   0   ...       0    0    0    0    0    0      0        0          1   \n",
      "733   0   ...       0    0    0    0    0    0      0        0          1   \n",
      "734   0   ...       0    0    0    0    0    0      0        0          1   \n",
      "735   0   ...       0    0    0    0    0    0      0        0          1   \n",
      "736   0   ...       0    0    0    0    0    0      0        0          1   \n",
      "737   0   ...       0    0    0    0    0    0      0        0          1   \n",
      "738   0   ...       1    0    0    0    0    0      0        0          0   \n",
      "739   0   ...       0    1    0    0    0    0      0        0          0   \n",
      "740   0   ...       0    0    1    0    0    0      0        0          0   \n",
      "741   0   ...       0    0    0    1    0    0      0        0          0   \n",
      "742   0   ...       0    0    0    0    1    0      0        0          0   \n",
      "743   0   ...       0    0    0    0    0    1      0        0          0   \n",
      "744   0   ...       0    0    0    0    0    0      1        0          0   \n",
      "745   0   ...       0    0    0    0    0    0      1        0          0   \n",
      "746   0   ...       0    0    0    0    0    0      1        0          0   \n",
      "747   0   ...       0    0    0    0    0    0      1        0          0   \n",
      "748   1   ...       0    0    0    0    0    0      1        0          0   \n",
      "749   0   ...       0    0    0    0    0    0      1        0          0   \n",
      "\n",
      "     Evening  \n",
      "0          0  \n",
      "1          0  \n",
      "2          0  \n",
      "3          0  \n",
      "4          0  \n",
      "5          0  \n",
      "6          0  \n",
      "7          0  \n",
      "8          0  \n",
      "9          0  \n",
      "10         0  \n",
      "11         0  \n",
      "12         0  \n",
      "13         0  \n",
      "14         0  \n",
      "15         0  \n",
      "16         0  \n",
      "17         0  \n",
      "18         1  \n",
      "19         1  \n",
      "20         1  \n",
      "21         1  \n",
      "22         1  \n",
      "23         1  \n",
      "24         0  \n",
      "25         0  \n",
      "26         0  \n",
      "27         0  \n",
      "28         0  \n",
      "29         0  \n",
      "..       ...  \n",
      "720        0  \n",
      "721        0  \n",
      "722        0  \n",
      "723        0  \n",
      "724        0  \n",
      "725        0  \n",
      "726        0  \n",
      "727        0  \n",
      "728        0  \n",
      "729        0  \n",
      "730        0  \n",
      "731        0  \n",
      "732        0  \n",
      "733        0  \n",
      "734        0  \n",
      "735        0  \n",
      "736        0  \n",
      "737        0  \n",
      "738        1  \n",
      "739        1  \n",
      "740        1  \n",
      "741        1  \n",
      "742        1  \n",
      "743        1  \n",
      "744        0  \n",
      "745        0  \n",
      "746        0  \n",
      "747        0  \n",
      "748        0  \n",
      "749        0  \n",
      "\n",
      "[750 rows x 33 columns]\n"
     ]
    }
   ],
   "source": [
    "print(df_all.head())\n",
    "print(df_test)"
   ]
  },
  {
   "cell_type": "code",
   "execution_count": 7,
   "metadata": {
    "collapsed": true
   },
   "outputs": [],
   "source": [
    "try:\n",
    "    df_test.to_csv('load_dataset.csv', encoding='utf-8', index=False)\n",
    "except:\n",
    "    print('error')"
   ]
  },
  {
   "cell_type": "markdown",
   "metadata": {
    "collapsed": true
   },
   "source": [
    "# 1. Import Libraries"
   ]
  },
  {
   "cell_type": "code",
   "execution_count": null,
   "metadata": {
    "collapsed": true
   },
   "outputs": [],
   "source": [
    "import pandas as pd\n",
    "import numpy as np\n",
    "import matplotlib.pyplot as plt\n",
    "import seaborn as sns\n",
    "from IPython.display import Image\n",
    "%matplotlib inline"
   ]
  },
  {
   "cell_type": "markdown",
   "metadata": {},
   "source": [
    "# 2. Import Data"
   ]
  },
  {
   "cell_type": "code",
   "execution_count": null,
   "metadata": {
    "collapsed": true
   },
   "outputs": [],
   "source": [
    "# file name: df_test\n",
    "df_test.head()"
   ]
  },
  {
   "cell_type": "code",
   "execution_count": null,
   "metadata": {
    "collapsed": true
   },
   "outputs": [],
   "source": [
    "df_test.info()"
   ]
  },
  {
   "cell_type": "code",
   "execution_count": null,
   "metadata": {
    "collapsed": true
   },
   "outputs": [],
   "source": [
    "df_test.describe()"
   ]
  },
  {
   "cell_type": "code",
   "execution_count": null,
   "metadata": {
    "collapsed": true
   },
   "outputs": [],
   "source": [
    "df_test.columns"
   ]
  },
  {
   "cell_type": "markdown",
   "metadata": {},
   "source": [
    "# 3.Data Visualization & Data Cleaning"
   ]
  },
  {
   "cell_type": "code",
   "execution_count": null,
   "metadata": {
    "collapsed": true
   },
   "outputs": [],
   "source": [
    "sns.pairplot(df_test)"
   ]
  },
  {
   "cell_type": "code",
   "execution_count": null,
   "metadata": {
    "collapsed": true
   },
   "outputs": [],
   "source": [
    "sns.distplot(df_test['power'])"
   ]
  },
  {
   "cell_type": "code",
   "execution_count": null,
   "metadata": {
    "collapsed": true
   },
   "outputs": [],
   "source": [
    "sns.heatmap(df_test.corr(), annot = True)"
   ]
  },
  {
   "cell_type": "markdown",
   "metadata": {},
   "source": [
    "# 4. X: feature, y: target"
   ]
  },
  {
   "cell_type": "code",
   "execution_count": 8,
   "metadata": {
    "collapsed": true
   },
   "outputs": [],
   "source": [
    "X = df_test[['tempc', 'humidity', 'HH', 'H0', 'H1', 'H2', 'H3', 'H4', 'H5', 'H6', 'H7', 'H8', 'H9', 'H10', 'H11', 'H12', 'H13', 'H14', 'H15', 'H16', 'H17', 'H18', 'H19', 'H20', 'H21', 'H22', 'H23', 'Night', 'Morning', 'Evening']]\n",
    "y = df_test['power']"
   ]
  },
  {
   "cell_type": "markdown",
   "metadata": {},
   "source": [
    "# 5. Train Test Split"
   ]
  },
  {
   "cell_type": "code",
   "execution_count": null,
   "metadata": {
    "collapsed": true
   },
   "outputs": [],
   "source": [
    "from sklearn.model_selection import train_test_split"
   ]
  },
  {
   "cell_type": "code",
   "execution_count": null,
   "metadata": {
    "collapsed": true
   },
   "outputs": [],
   "source": [
    "X_train, X_test, y_train, y_test = train_test_split(X, y, test_size=0.3, random_state=0)"
   ]
  },
  {
   "cell_type": "markdown",
   "metadata": {},
   "source": [
    "# 6. Model Training"
   ]
  },
  {
   "cell_type": "code",
   "execution_count": null,
   "metadata": {
    "collapsed": true
   },
   "outputs": [],
   "source": [
    "from sklearn.linear_model import LinearRegression"
   ]
  },
  {
   "cell_type": "code",
   "execution_count": null,
   "metadata": {
    "collapsed": true
   },
   "outputs": [],
   "source": [
    "lm = LinearRegression()"
   ]
  },
  {
   "cell_type": "code",
   "execution_count": null,
   "metadata": {
    "collapsed": true
   },
   "outputs": [],
   "source": [
    "lm.fit(X_train,y_train)"
   ]
  },
  {
   "cell_type": "markdown",
   "metadata": {},
   "source": [
    "# 7. Model Evalution"
   ]
  },
  {
   "cell_type": "code",
   "execution_count": null,
   "metadata": {
    "collapsed": true
   },
   "outputs": [],
   "source": [
    "# print the intercept\n",
    "print(lm.intercept_)"
   ]
  },
  {
   "cell_type": "code",
   "execution_count": null,
   "metadata": {
    "collapsed": true
   },
   "outputs": [],
   "source": [
    "# print the coefficient\n",
    "print(lm.coef_)"
   ]
  },
  {
   "cell_type": "code",
   "execution_count": null,
   "metadata": {
    "collapsed": true
   },
   "outputs": [],
   "source": [
    "coeff_df = pd.DataFrame(lm.coef_,X.columns,columns=['Coefficient'])\n",
    "coeff_df"
   ]
  },
  {
   "cell_type": "markdown",
   "metadata": {},
   "source": [
    "# 8. Make Predictions From the Model"
   ]
  },
  {
   "cell_type": "code",
   "execution_count": null,
   "metadata": {
    "collapsed": true
   },
   "outputs": [],
   "source": [
    "predictions = lm.predict(X_test)"
   ]
  },
  {
   "cell_type": "code",
   "execution_count": null,
   "metadata": {
    "collapsed": true
   },
   "outputs": [],
   "source": [
    "plt.scatter(y_test,predictions)"
   ]
  },
  {
   "cell_type": "code",
   "execution_count": null,
   "metadata": {
    "collapsed": true
   },
   "outputs": [],
   "source": [
    "py.iplot{[]}"
   ]
  },
  {
   "cell_type": "code",
   "execution_count": null,
   "metadata": {
    "collapsed": true
   },
   "outputs": [],
   "source": [
    "sns.distplot((y_test-predictions),bins=50);"
   ]
  },
  {
   "cell_type": "code",
   "execution_count": null,
   "metadata": {
    "collapsed": true
   },
   "outputs": [],
   "source": [
    "from sklearn import metrics"
   ]
  },
  {
   "cell_type": "code",
   "execution_count": null,
   "metadata": {
    "collapsed": true
   },
   "outputs": [],
   "source": [
    "print('MAE:', metrics.mean_absolute_error(y_test, predictions))\n",
    "print('MSE:', metrics.mean_squared_error(y_test, predictions))\n",
    "print('RMSE:', np.sqrt(metrics.mean_squared_error(y_test, predictions)))"
   ]
  },
  {
   "cell_type": "code",
   "execution_count": null,
   "metadata": {
    "collapsed": true
   },
   "outputs": [],
   "source": []
  }
 ],
 "metadata": {
  "kernelspec": {
   "display_name": "Python 3",
   "language": "python",
   "name": "python3"
  },
  "language_info": {
   "codemirror_mode": {
    "name": "ipython",
    "version": 3
   },
   "file_extension": ".py",
   "mimetype": "text/x-python",
   "name": "python",
   "nbconvert_exporter": "python",
   "pygments_lexer": "ipython3",
   "version": "3.6.1"
  }
 },
 "nbformat": 4,
 "nbformat_minor": 2
}
