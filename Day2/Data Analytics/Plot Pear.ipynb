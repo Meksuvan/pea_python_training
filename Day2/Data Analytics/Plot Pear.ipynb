{
 "cells": [
  {
   "cell_type": "code",
   "execution_count": 28,
   "metadata": {},
   "outputs": [
    {
     "name": "stdout",
     "output_type": "stream",
     "text": [
      "Requirement already satisfied: cufflinks in c:\\users\\phanumat\\anaconda3\\lib\\site-packages\n",
      "Requirement already satisfied: colorlover>=0.2 in c:\\users\\phanumat\\anaconda3\\lib\\site-packages (from cufflinks)\n",
      "Requirement already satisfied: pandas in c:\\users\\phanumat\\anaconda3\\lib\\site-packages (from cufflinks)\n",
      "Requirement already satisfied: plotly>=2.0.0 in c:\\users\\phanumat\\anaconda3\\lib\\site-packages (from cufflinks)\n",
      "Requirement already satisfied: pytz>=2011k in c:\\users\\phanumat\\anaconda3\\lib\\site-packages (from pandas->cufflinks)\n",
      "Requirement already satisfied: numpy>=1.7.0 in c:\\users\\phanumat\\anaconda3\\lib\\site-packages (from pandas->cufflinks)\n",
      "Requirement already satisfied: python-dateutil>=2 in c:\\users\\phanumat\\anaconda3\\lib\\site-packages (from pandas->cufflinks)\n",
      "Requirement already satisfied: six in c:\\users\\phanumat\\anaconda3\\lib\\site-packages (from plotly>=2.0.0->cufflinks)\n",
      "Requirement already satisfied: nbformat>=4.2 in c:\\users\\phanumat\\anaconda3\\lib\\site-packages (from plotly>=2.0.0->cufflinks)\n",
      "Requirement already satisfied: requests in c:\\users\\phanumat\\anaconda3\\lib\\site-packages (from plotly>=2.0.0->cufflinks)\n",
      "Requirement already satisfied: decorator>=4.0.6 in c:\\users\\phanumat\\anaconda3\\lib\\site-packages (from plotly>=2.0.0->cufflinks)\n",
      "Requirement already satisfied: jsonschema!=2.5.0,>=2.4 in c:\\users\\phanumat\\anaconda3\\lib\\site-packages (from nbformat>=4.2->plotly>=2.0.0->cufflinks)\n",
      "Requirement already satisfied: jupyter-core in c:\\users\\phanumat\\anaconda3\\lib\\site-packages (from nbformat>=4.2->plotly>=2.0.0->cufflinks)\n",
      "Requirement already satisfied: traitlets>=4.1 in c:\\users\\phanumat\\anaconda3\\lib\\site-packages (from nbformat>=4.2->plotly>=2.0.0->cufflinks)\n",
      "Requirement already satisfied: ipython-genutils in c:\\users\\phanumat\\anaconda3\\lib\\site-packages (from nbformat>=4.2->plotly>=2.0.0->cufflinks)\n",
      "Requirement already satisfied: urllib3<1.23,>=1.21.1 in c:\\users\\phanumat\\anaconda3\\lib\\site-packages (from requests->plotly>=2.0.0->cufflinks)\n",
      "Requirement already satisfied: certifi>=2017.4.17 in c:\\users\\phanumat\\anaconda3\\lib\\site-packages (from requests->plotly>=2.0.0->cufflinks)\n",
      "Requirement already satisfied: idna<2.7,>=2.5 in c:\\users\\phanumat\\anaconda3\\lib\\site-packages (from requests->plotly>=2.0.0->cufflinks)\n",
      "Requirement already satisfied: chardet<3.1.0,>=3.0.2 in c:\\users\\phanumat\\anaconda3\\lib\\site-packages (from requests->plotly>=2.0.0->cufflinks)\n"
     ]
    }
   ],
   "source": [
    "!pip install cufflinks"
   ]
  },
  {
   "cell_type": "code",
   "execution_count": null,
   "metadata": {
    "collapsed": true
   },
   "outputs": [],
   "source": [
    "!pip install cufflinks --upgrade"
   ]
  },
  {
   "cell_type": "markdown",
   "metadata": {},
   "source": [
    "# Dataset"
   ]
  },
  {
   "cell_type": "code",
   "execution_count": null,
   "metadata": {
    "collapsed": true
   },
   "outputs": [],
   "source": [
    "import time\n",
    "import pandas as pd\n",
    "import datetime as dt\n",
    "\n",
    "#fibaro\n",
    "fibaro_illuminance = pd.read_csv(\"fibaro_illuminance.csv\",parse_dates = True, index_col = 0)\n",
    "fibaro_motion = pd.read_csv(\"fibaro_motion.csv\",parse_dates = True, index_col = 0)\n",
    "fibaro_temperature = pd.read_csv(\"fibaro_temperature.csv\",parse_dates = True, index_col = 0)\n",
    "\n",
    "#lighting\n",
    "lighting_brightness = pd.read_csv(\"lighting_brightness.csv\",parse_dates = True, index_col = 0)\n",
    "lighting_status = pd.read_csv(\"lighting_status.csv\",parse_dates = True, index_col = 0)\n",
    "\n",
    "#bedroom\n",
    "bedroom_fanspeed = pd.read_csv(\"bedroom_fanspeed.csv\",parse_dates = True, index_col = 0)\n",
    "bedroom_temp = pd.read_csv(\"bedroom_temp.csv\",parse_dates = True, index_col = 0)\n",
    "\n",
    "#air1\n",
    "air1_fanspeed = pd.read_csv(\"air1_fanspeed.csv\",parse_dates = True, index_col = 0)\n",
    "air1_temp = pd.read_csv(\"air1_temp.csv\",parse_dates = True, index_col = 0)\n",
    "\n",
    "#meter\n",
    "power_meter = pd.read_csv(\"power_meter.csv\",parse_dates = True, index_col = 0)\n",
    "power_meter.index = pd.to_datetime(power_meter['datetime'])\n",
    "power_meter_avg = power_meter.resample('15min').mean()\n",
    "\n",
    "#inverter\n",
    "power_inverter = pd.read_csv(\"power_inverter.csv\",parse_dates = True, index_col = 0)\n",
    "power_inverter.index = pd.to_datetime(power_inverter['datetime'])\n",
    "power_inverter_avg = power_inverter.resample('15min').mean()"
   ]
  },
  {
   "cell_type": "code",
   "execution_count": 18,
   "metadata": {
    "collapsed": true
   },
   "outputs": [],
   "source": [
    "#2017-08-20-aircon1-energy\n",
    "aircon1_energy = pd.read_csv(\"170820_aircon1_energy.csv\")\n",
    "aircon1_energy.index = pd.to_datetime(aircon1_energy['datetime'])\n",
    "aircon1_energy_avg = aircon1_energy.resample('15min').mean()\n",
    "aircon1_energy_day = aircon1_energy.resample('D').mean()\n",
    "\n",
    "#2017-08-20-light1-energy\n",
    "light1_energy = pd.read_csv(\"170820_light1_energy.csv\")\n",
    "light1_energy.index = pd.to_datetime(light1_energy['datetime'])\n",
    "light1_energy_avg = light1_energy.resample('15min').mean()\n",
    "light1_energy_day = light1_energy.resample('D').mean()\n",
    "\n",
    "#2017-08-20-outlet1-energy\n",
    "outlet1_energy = pd.read_csv(\"170820_outlet1_energy.csv\")\n",
    "outlet1_energy.index = pd.to_datetime(outlet1_energy['datetime'])\n",
    "outlet1_energy_avg = outlet1_energy.resample('15min').mean()\n",
    "outlet1_energy_day = outlet1_energy.resample('D').mean()"
   ]
  },
  {
   "cell_type": "code",
   "execution_count": 26,
   "metadata": {},
   "outputs": [
    {
     "data": {
      "text/html": [
       "<div>\n",
       "<style>\n",
       "    .dataframe thead tr:only-child th {\n",
       "        text-align: right;\n",
       "    }\n",
       "\n",
       "    .dataframe thead th {\n",
       "        text-align: left;\n",
       "    }\n",
       "\n",
       "    .dataframe tbody tr th {\n",
       "        vertical-align: top;\n",
       "    }\n",
       "</style>\n",
       "<table border=\"1\" class=\"dataframe\">\n",
       "  <thead>\n",
       "    <tr style=\"text-align: right;\">\n",
       "      <th></th>\n",
       "      <th>grid</th>\n",
       "      <th>solar</th>\n",
       "      <th>load</th>\n",
       "    </tr>\n",
       "    <tr>\n",
       "      <th>datetime</th>\n",
       "      <th></th>\n",
       "      <th></th>\n",
       "      <th></th>\n",
       "    </tr>\n",
       "  </thead>\n",
       "  <tbody>\n",
       "    <tr>\n",
       "      <th>2017-08-07 00:00:00</th>\n",
       "      <td>1323.880011</td>\n",
       "      <td>-15.854591</td>\n",
       "      <td>1308.025420</td>\n",
       "    </tr>\n",
       "    <tr>\n",
       "      <th>2017-08-07 00:15:00</th>\n",
       "      <td>1293.132589</td>\n",
       "      <td>-15.948172</td>\n",
       "      <td>1277.184417</td>\n",
       "    </tr>\n",
       "    <tr>\n",
       "      <th>2017-08-07 00:30:00</th>\n",
       "      <td>1243.262217</td>\n",
       "      <td>-16.197022</td>\n",
       "      <td>1227.065194</td>\n",
       "    </tr>\n",
       "    <tr>\n",
       "      <th>2017-08-07 00:45:00</th>\n",
       "      <td>1227.227789</td>\n",
       "      <td>-16.359350</td>\n",
       "      <td>1210.868439</td>\n",
       "    </tr>\n",
       "    <tr>\n",
       "      <th>2017-08-07 01:00:00</th>\n",
       "      <td>1050.704289</td>\n",
       "      <td>-16.323033</td>\n",
       "      <td>1034.381256</td>\n",
       "    </tr>\n",
       "  </tbody>\n",
       "</table>\n",
       "</div>"
      ],
      "text/plain": [
       "                            grid      solar         load\n",
       "datetime                                                \n",
       "2017-08-07 00:00:00  1323.880011 -15.854591  1308.025420\n",
       "2017-08-07 00:15:00  1293.132589 -15.948172  1277.184417\n",
       "2017-08-07 00:30:00  1243.262217 -16.197022  1227.065194\n",
       "2017-08-07 00:45:00  1227.227789 -16.359350  1210.868439\n",
       "2017-08-07 01:00:00  1050.704289 -16.323033  1034.381256"
      ]
     },
     "execution_count": 26,
     "metadata": {},
     "output_type": "execute_result"
    }
   ],
   "source": [
    "power_meter_avg.head()"
   ]
  },
  {
   "cell_type": "code",
   "execution_count": null,
   "metadata": {
    "collapsed": true
   },
   "outputs": [],
   "source": [
    "power_inverter_avg.head()"
   ]
  },
  {
   "cell_type": "code",
   "execution_count": 19,
   "metadata": {},
   "outputs": [
    {
     "data": {
      "text/html": [
       "<div>\n",
       "<style>\n",
       "    .dataframe thead tr:only-child th {\n",
       "        text-align: right;\n",
       "    }\n",
       "\n",
       "    .dataframe thead th {\n",
       "        text-align: left;\n",
       "    }\n",
       "\n",
       "    .dataframe tbody tr th {\n",
       "        vertical-align: top;\n",
       "    }\n",
       "</style>\n",
       "<table border=\"1\" class=\"dataframe\">\n",
       "  <thead>\n",
       "    <tr style=\"text-align: right;\">\n",
       "      <th></th>\n",
       "      <th>energy</th>\n",
       "    </tr>\n",
       "    <tr>\n",
       "      <th>datetime</th>\n",
       "      <th></th>\n",
       "    </tr>\n",
       "  </thead>\n",
       "  <tbody>\n",
       "    <tr>\n",
       "      <th>2017-08-20 00:00:00</th>\n",
       "      <td>0.069000</td>\n",
       "    </tr>\n",
       "    <tr>\n",
       "      <th>2017-08-20 00:15:00</th>\n",
       "      <td>0.062600</td>\n",
       "    </tr>\n",
       "    <tr>\n",
       "      <th>2017-08-20 00:30:00</th>\n",
       "      <td>0.061600</td>\n",
       "    </tr>\n",
       "    <tr>\n",
       "      <th>2017-08-20 00:45:00</th>\n",
       "      <td>0.059200</td>\n",
       "    </tr>\n",
       "    <tr>\n",
       "      <th>2017-08-20 01:00:00</th>\n",
       "      <td>0.065533</td>\n",
       "    </tr>\n",
       "  </tbody>\n",
       "</table>\n",
       "</div>"
      ],
      "text/plain": [
       "                       energy\n",
       "datetime                     \n",
       "2017-08-20 00:00:00  0.069000\n",
       "2017-08-20 00:15:00  0.062600\n",
       "2017-08-20 00:30:00  0.061600\n",
       "2017-08-20 00:45:00  0.059200\n",
       "2017-08-20 01:00:00  0.065533"
      ]
     },
     "execution_count": 19,
     "metadata": {},
     "output_type": "execute_result"
    }
   ],
   "source": [
    "aircon1_energy_avg.head()"
   ]
  },
  {
   "cell_type": "markdown",
   "metadata": {},
   "source": [
    "# PLOT - FIBARO - illuminance"
   ]
  },
  {
   "cell_type": "code",
   "execution_count": null,
   "metadata": {
    "collapsed": true
   },
   "outputs": [],
   "source": [
    "import numpy as np\n",
    "import pandas as pd\n",
    "import plotly.plotly as py\n",
    "import plotly.tools as tls\n",
    "import plotly.graph_objs as go\n",
    "import cufflinks as cf\n",
    "tls.set_credentials_file(username='kwarodom', api_key='ljMtxORMkyx0JmiDwIyT')\n",
    "\n",
    "tls.embed('https://plot.ly/~cufflinks/8')\n",
    "\n",
    "df = cf.datagen.lines()\n",
    "\n",
    "py.iplot([{\n",
    "    'x': fibaro_illuminance.index,\n",
    "    'y': fibaro_illuminance[col],\n",
    "    'name': col\n",
    "}  for col in fibaro_illuminance], filename='cufflinks/simple-line')"
   ]
  },
  {
   "cell_type": "markdown",
   "metadata": {},
   "source": [
    "# PLOT - FIBARO - motion"
   ]
  },
  {
   "cell_type": "code",
   "execution_count": null,
   "metadata": {
    "collapsed": true
   },
   "outputs": [],
   "source": [
    "import numpy as np\n",
    "import pandas as pd\n",
    "import plotly.plotly as py\n",
    "import plotly.tools as tls\n",
    "import plotly.graph_objs as go\n",
    "import cufflinks as cf\n",
    "tls.set_credentials_file(username='kwarodom', api_key='ljMtxORMkyx0JmiDwIyT')\n",
    "\n",
    "tls.embed('https://plot.ly/~cufflinks/8')\n",
    "\n",
    "df = cf.datagen.lines()\n",
    "\n",
    "py.iplot([{\n",
    "    'x': fibaro_motion.index,\n",
    "    'y': fibaro_motion[col],\n",
    "    'name': col\n",
    "}  for col in fibaro_motion], filename='cufflinks/simple-line')"
   ]
  },
  {
   "cell_type": "markdown",
   "metadata": {},
   "source": [
    "# PLOT - FIBARO - temperature"
   ]
  },
  {
   "cell_type": "code",
   "execution_count": null,
   "metadata": {
    "collapsed": true
   },
   "outputs": [],
   "source": [
    "import numpy as np\n",
    "import pandas as pd\n",
    "import plotly.plotly as py\n",
    "import plotly.tools as tls\n",
    "import plotly.graph_objs as go\n",
    "import cufflinks as cf\n",
    "tls.set_credentials_file(username='kwarodom', api_key='ljMtxORMkyx0JmiDwIyT')\n",
    "\n",
    "tls.embed('https://plot.ly/~cufflinks/8')\n",
    "\n",
    "df = cf.datagen.lines()\n",
    "\n",
    "py.iplot([{\n",
    "    'x': fibaro_temperature.index,\n",
    "    'y': fibaro_temperature[col],\n",
    "    'name': col\n",
    "}  for col in fibaro_temperature], filename='cufflinks/simple-line')"
   ]
  },
  {
   "cell_type": "markdown",
   "metadata": {},
   "source": [
    "# PLOT - LIGHTING - brightness"
   ]
  },
  {
   "cell_type": "code",
   "execution_count": null,
   "metadata": {
    "collapsed": true
   },
   "outputs": [],
   "source": [
    "import numpy as np\n",
    "import pandas as pd\n",
    "import plotly.plotly as py\n",
    "import plotly.tools as tls\n",
    "import plotly.graph_objs as go\n",
    "import cufflinks as cf\n",
    "tls.set_credentials_file(username='kwarodom', api_key='ljMtxORMkyx0JmiDwIyT')\n",
    "\n",
    "tls.embed('https://plot.ly/~cufflinks/8')\n",
    "\n",
    "df = cf.datagen.lines()\n",
    "\n",
    "py.iplot([{\n",
    "    'x': lighting_brightness.index,\n",
    "    'y': lighting_brightness[col],\n",
    "    'name': col\n",
    "}  for col in lighting_brightness], filename='cufflinks/simple-line')"
   ]
  },
  {
   "cell_type": "markdown",
   "metadata": {},
   "source": [
    "# PLOT - LIGHTING - status"
   ]
  },
  {
   "cell_type": "code",
   "execution_count": 14,
   "metadata": {},
   "outputs": [
    {
     "ename": "ModuleNotFoundError",
     "evalue": "No module named 'cufflinks'",
     "output_type": "error",
     "traceback": [
      "\u001b[1;31m---------------------------------------------------------------------------\u001b[0m",
      "\u001b[1;31mModuleNotFoundError\u001b[0m                       Traceback (most recent call last)",
      "\u001b[1;32m<ipython-input-14-e4d98e1c723a>\u001b[0m in \u001b[0;36m<module>\u001b[1;34m()\u001b[0m\n\u001b[0;32m      4\u001b[0m \u001b[1;32mimport\u001b[0m \u001b[0mplotly\u001b[0m\u001b[1;33m.\u001b[0m\u001b[0mtools\u001b[0m \u001b[1;32mas\u001b[0m \u001b[0mtls\u001b[0m\u001b[1;33m\u001b[0m\u001b[0m\n\u001b[0;32m      5\u001b[0m \u001b[1;32mimport\u001b[0m \u001b[0mplotly\u001b[0m\u001b[1;33m.\u001b[0m\u001b[0mgraph_objs\u001b[0m \u001b[1;32mas\u001b[0m \u001b[0mgo\u001b[0m\u001b[1;33m\u001b[0m\u001b[0m\n\u001b[1;32m----> 6\u001b[1;33m \u001b[1;32mimport\u001b[0m \u001b[0mcufflinks\u001b[0m \u001b[1;32mas\u001b[0m \u001b[0mcf\u001b[0m\u001b[1;33m\u001b[0m\u001b[0m\n\u001b[0m\u001b[0;32m      7\u001b[0m \u001b[0mtls\u001b[0m\u001b[1;33m.\u001b[0m\u001b[0mset_credentials_file\u001b[0m\u001b[1;33m(\u001b[0m\u001b[0musername\u001b[0m\u001b[1;33m=\u001b[0m\u001b[1;34m'kwarodom'\u001b[0m\u001b[1;33m,\u001b[0m \u001b[0mapi_key\u001b[0m\u001b[1;33m=\u001b[0m\u001b[1;34m'ljMtxORMkyx0JmiDwIyT'\u001b[0m\u001b[1;33m)\u001b[0m\u001b[1;33m\u001b[0m\u001b[0m\n\u001b[0;32m      8\u001b[0m \u001b[1;33m\u001b[0m\u001b[0m\n",
      "\u001b[1;31mModuleNotFoundError\u001b[0m: No module named 'cufflinks'"
     ]
    }
   ],
   "source": [
    "import numpy as np\n",
    "import pandas as pd\n",
    "import plotly.plotly as py\n",
    "import plotly.tools as tls\n",
    "import plotly.graph_objs as go\n",
    "import cufflinks as cf\n",
    "tls.set_credentials_file(username='kwarodom', api_key='ljMtxORMkyx0JmiDwIyT')\n",
    "\n",
    "tls.embed('https://plot.ly/~cufflinks/8')\n",
    "\n",
    "df = cf.datagen.lines()\n",
    "\n",
    "py.iplot([{\n",
    "    'x': lighting_status.index,\n",
    "    'y': lighting_status[col],\n",
    "    'name': col\n",
    "}  for col in lighting_status], filename='cufflinks/simple-line')"
   ]
  },
  {
   "cell_type": "markdown",
   "metadata": {},
   "source": [
    "# PLOT - AIR1 - fanspeed"
   ]
  },
  {
   "cell_type": "code",
   "execution_count": null,
   "metadata": {
    "collapsed": true
   },
   "outputs": [],
   "source": [
    "import numpy as np\n",
    "import pandas as pd\n",
    "import plotly.plotly as py\n",
    "import plotly.tools as tls\n",
    "import plotly.graph_objs as go\n",
    "import cufflinks as cf\n",
    "tls.set_credentials_file(username='kwarodom', api_key='ljMtxORMkyx0JmiDwIyT')\n",
    "\n",
    "tls.embed('https://plot.ly/~cufflinks/8')\n",
    "\n",
    "df = cf.datagen.lines()\n",
    "\n",
    "py.iplot([{\n",
    "    'x': air1_fanspeed.index,\n",
    "    'y': air1_fanspeed[col],\n",
    "    'name': col\n",
    "}  for col in air1_fanspeed], filename='cufflinks/simple-line')"
   ]
  },
  {
   "cell_type": "markdown",
   "metadata": {},
   "source": [
    "# PLOT - AIR1 - temperature"
   ]
  },
  {
   "cell_type": "code",
   "execution_count": null,
   "metadata": {
    "collapsed": true
   },
   "outputs": [],
   "source": [
    "import numpy as np\n",
    "import pandas as pd\n",
    "import plotly.plotly as py\n",
    "import plotly.tools as tls\n",
    "import plotly.graph_objs as go\n",
    "import cufflinks as cf\n",
    "tls.set_credentials_file(username='kwarodom', api_key='ljMtxORMkyx0JmiDwIyT')\n",
    "\n",
    "tls.embed('https://plot.ly/~cufflinks/8')\n",
    "\n",
    "df = cf.datagen.lines()\n",
    "\n",
    "py.iplot([{\n",
    "    'x': air1_temperature.index,\n",
    "    'y': air1_temperature[col],\n",
    "    'name': col\n",
    "}  for col in air1_temperature], filename='cufflinks/simple-line')"
   ]
  },
  {
   "cell_type": "markdown",
   "metadata": {},
   "source": [
    "# PLOT - BEDROOM - fanspeed"
   ]
  },
  {
   "cell_type": "code",
   "execution_count": null,
   "metadata": {
    "collapsed": true
   },
   "outputs": [],
   "source": [
    "import numpy as np\n",
    "import pandas as pd\n",
    "import plotly.plotly as py\n",
    "import plotly.tools as tls\n",
    "import plotly.graph_objs as go\n",
    "import cufflinks as cf\n",
    "tls.set_credentials_file(username='kwarodom', api_key='ljMtxORMkyx0JmiDwIyT')\n",
    "\n",
    "tls.embed('https://plot.ly/~cufflinks/8')\n",
    "\n",
    "df = cf.datagen.lines()\n",
    "\n",
    "py.iplot([{\n",
    "    'x': bedroom_fanspeed.index,\n",
    "    'y': bedroom_fanspeed[col],\n",
    "    'name': col\n",
    "}  for col in bedroom_fanspeed], filename='cufflinks/simple-line')"
   ]
  },
  {
   "cell_type": "markdown",
   "metadata": {},
   "source": [
    "# PLOT - BEDROOM - temperature"
   ]
  },
  {
   "cell_type": "code",
   "execution_count": null,
   "metadata": {
    "collapsed": true
   },
   "outputs": [],
   "source": [
    "import numpy as np\n",
    "import pandas as pd\n",
    "import plotly.plotly as py\n",
    "import plotly.tools as tls\n",
    "import plotly.graph_objs as go\n",
    "import cufflinks as cf\n",
    "tls.set_credentials_file(username='kwarodom', api_key='ljMtxORMkyx0JmiDwIyT')\n",
    "\n",
    "tls.embed('https://plot.ly/~cufflinks/8')\n",
    "\n",
    "df = cf.datagen.lines()\n",
    "\n",
    "py.iplot([{\n",
    "    'x': bedroom_temperature.index,\n",
    "    'y': bedroom_temperature[col],\n",
    "    'name': col\n",
    "}  for col in bedroom_temperature], filename='cufflinks/simple-line')"
   ]
  },
  {
   "cell_type": "markdown",
   "metadata": {},
   "source": [
    "# PLOT - METER"
   ]
  },
  {
   "cell_type": "code",
   "execution_count": 27,
   "metadata": {},
   "outputs": [
    {
     "ename": "ModuleNotFoundError",
     "evalue": "No module named 'cufflinks'",
     "output_type": "error",
     "traceback": [
      "\u001b[1;31m---------------------------------------------------------------------------\u001b[0m",
      "\u001b[1;31mModuleNotFoundError\u001b[0m                       Traceback (most recent call last)",
      "\u001b[1;32m<ipython-input-27-845e5c1e9a64>\u001b[0m in \u001b[0;36m<module>\u001b[1;34m()\u001b[0m\n\u001b[0;32m      4\u001b[0m \u001b[1;32mimport\u001b[0m \u001b[0mplotly\u001b[0m\u001b[1;33m.\u001b[0m\u001b[0mtools\u001b[0m \u001b[1;32mas\u001b[0m \u001b[0mtls\u001b[0m\u001b[1;33m\u001b[0m\u001b[0m\n\u001b[0;32m      5\u001b[0m \u001b[1;32mimport\u001b[0m \u001b[0mplotly\u001b[0m\u001b[1;33m.\u001b[0m\u001b[0mgraph_objs\u001b[0m \u001b[1;32mas\u001b[0m \u001b[0mgo\u001b[0m\u001b[1;33m\u001b[0m\u001b[0m\n\u001b[1;32m----> 6\u001b[1;33m \u001b[1;32mimport\u001b[0m \u001b[0mcufflinks\u001b[0m \u001b[1;32mas\u001b[0m \u001b[0mcf\u001b[0m\u001b[1;33m\u001b[0m\u001b[0m\n\u001b[0m\u001b[0;32m      7\u001b[0m \u001b[0mtls\u001b[0m\u001b[1;33m.\u001b[0m\u001b[0mset_credentials_file\u001b[0m\u001b[1;33m(\u001b[0m\u001b[0musername\u001b[0m\u001b[1;33m=\u001b[0m\u001b[1;34m'kwarodom'\u001b[0m\u001b[1;33m,\u001b[0m \u001b[0mapi_key\u001b[0m\u001b[1;33m=\u001b[0m\u001b[1;34m'ljMtxORMkyx0JmiDwIyT'\u001b[0m\u001b[1;33m)\u001b[0m\u001b[1;33m\u001b[0m\u001b[0m\n\u001b[0;32m      8\u001b[0m \u001b[1;33m\u001b[0m\u001b[0m\n",
      "\u001b[1;31mModuleNotFoundError\u001b[0m: No module named 'cufflinks'"
     ]
    }
   ],
   "source": [
    "import numpy as np\n",
    "import pandas as pd\n",
    "import plotly.plotly as py\n",
    "import plotly.tools as tls\n",
    "import plotly.graph_objs as go\n",
    "import cufflinks as cf\n",
    "tls.set_credentials_file(username='kwarodom', api_key='ljMtxORMkyx0JmiDwIyT')\n",
    "\n",
    "tls.embed('https://plot.ly/~cufflinks/8')\n",
    "\n",
    "df = cf.datagen.lines()\n",
    "\n",
    "py.iplot([{\n",
    "    'x': power_meter_avg.index,\n",
    "    'y': power_meter_avg[col],\n",
    "    'name': col\n",
    "}  for col in power_meter_avg], filename='cufflinks/simple-line')"
   ]
  },
  {
   "cell_type": "markdown",
   "metadata": {},
   "source": [
    "# PLOT - INVERTER"
   ]
  },
  {
   "cell_type": "code",
   "execution_count": null,
   "metadata": {
    "collapsed": true
   },
   "outputs": [],
   "source": [
    "import numpy as np\n",
    "import pandas as pd\n",
    "import plotly.plotly as py\n",
    "import plotly.tools as tls\n",
    "import plotly.graph_objs as go\n",
    "import cufflinks as cf\n",
    "tls.set_credentials_file(username='kwarodom', api_key='ljMtxORMkyx0JmiDwIyT')\n",
    "\n",
    "tls.embed('https://plot.ly/~cufflinks/8')\n",
    "\n",
    "df = cf.datagen.lines()\n",
    "\n",
    "py.iplot([{\n",
    "    'x': power_inverter_avg.index,\n",
    "    'y': power_inverter_avg[col],\n",
    "    'name': col\n",
    "}  for col in power_inverter_avg], filename='cufflinks/simple-line')"
   ]
  },
  {
   "cell_type": "markdown",
   "metadata": {},
   "source": [
    "# PLOT - AIRCON1 / LIGHT1 / OUTLET1"
   ]
  },
  {
   "cell_type": "code",
   "execution_count": 24,
   "metadata": {},
   "outputs": [
    {
     "name": "stdout",
     "output_type": "stream",
     "text": [
      "['aircon1', 'light1', 'outlet1']\n"
     ]
    },
    {
     "data": {
      "text/html": [
       "<iframe id=\"igraph\" scrolling=\"no\" style=\"border:none;\" seamless=\"seamless\" src=\"https://plot.ly/~kwarodom/63.embed\" height=\"525px\" width=\"100%\"></iframe>"
      ],
      "text/plain": [
       "<plotly.tools.PlotlyDisplay object>"
      ]
     },
     "execution_count": 24,
     "metadata": {},
     "output_type": "execute_result"
    }
   ],
   "source": [
    "import plotly.plotly as py\n",
    "import plotly.graph_objs as go\n",
    "\n",
    "labels = ['aircon1', 'light1', 'outlet1']\n",
    "print(labels)\n",
    "values = aircon1_energy_day['energy'], light1_energy_day['energy'], outlet1_energy_day['energy'],\n",
    "#print(values)\n",
    "\n",
    "trace = go.Pie(labels=labels, values=values)\n",
    "\n",
    "py.iplot([trace], filename='basic_pie_chart')"
   ]
  },
  {
   "cell_type": "code",
   "execution_count": null,
   "metadata": {
    "collapsed": true
   },
   "outputs": [],
   "source": []
  },
  {
   "cell_type": "code",
   "execution_count": null,
   "metadata": {
    "collapsed": true
   },
   "outputs": [],
   "source": []
  }
 ],
 "metadata": {
  "kernelspec": {
   "display_name": "Python 3",
   "language": "python",
   "name": "python3"
  },
  "language_info": {
   "codemirror_mode": {
    "name": "ipython",
    "version": 3
   },
   "file_extension": ".py",
   "mimetype": "text/x-python",
   "name": "python",
   "nbconvert_exporter": "python",
   "pygments_lexer": "ipython3",
   "version": "3.6.1"
  }
 },
 "nbformat": 4,
 "nbformat_minor": 2
}
